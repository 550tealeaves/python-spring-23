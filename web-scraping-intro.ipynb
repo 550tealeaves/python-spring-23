{
 "cells": [
  {
   "cell_type": "code",
   "execution_count": null,
   "id": "748b25bf",
   "metadata": {},
   "outputs": [],
   "source": [
    "import requests # allows us to make https requests\n",
    "from bs4 import BeautifulSoup\n",
    "import lxml"
   ]
  },
  {
   "cell_type": "code",
   "execution_count": null,
   "id": "d6674951",
   "metadata": {},
   "outputs": [],
   "source": [
    "webpage = requests.get('https://www.wsj.com/')\n",
    "source = webpage.content\n",
    "soup = BeautifulSoup(source, 'lxml')"
   ]
  },
  {
   "cell_type": "code",
   "execution_count": null,
   "id": "cc56e572",
   "metadata": {},
   "outputs": [],
   "source": [
    "# finds all the 'a' tags -- the links\n",
    "\n",
    "soup.find_all('a')"
   ]
  },
  {
   "cell_type": "code",
   "execution_count": null,
   "id": "f2f8c8ff",
   "metadata": {},
   "outputs": [],
   "source": [
    "# finds all level 3 headings\n",
    "\n",
    "soup.find_all('h3')"
   ]
  },
  {
   "cell_type": "code",
   "execution_count": null,
   "id": "fd510878",
   "metadata": {},
   "outputs": [],
   "source": [
    "soup.find_all('h2')"
   ]
  },
  {
   "cell_type": "code",
   "execution_count": null,
   "id": "e697ada5",
   "metadata": {},
   "outputs": [],
   "source": [
    "headers_3 = soup.find_all('h3')"
   ]
  },
  {
   "cell_type": "code",
   "execution_count": null,
   "id": "df7d2288",
   "metadata": {},
   "outputs": [],
   "source": [
    "soup.title"
   ]
  },
  {
   "cell_type": "code",
   "execution_count": null,
   "id": "b5069508",
   "metadata": {},
   "outputs": [],
   "source": [
    "soup.find('title')"
   ]
  },
  {
   "cell_type": "code",
   "execution_count": null,
   "id": "ebdca136",
   "metadata": {},
   "outputs": [],
   "source": [
    "soup.title.text"
   ]
  },
  {
   "cell_type": "code",
   "execution_count": null,
   "id": "d0788e4c",
   "metadata": {},
   "outputs": [],
   "source": [
    "soup.h3.text"
   ]
  },
  {
   "cell_type": "code",
   "execution_count": null,
   "id": "01cba824",
   "metadata": {},
   "outputs": [],
   "source": [
    "headers_3 = soup.find_all('h3')\n",
    "# for classes soup.find_all(class_ = \"\")\n",
    "\n",
    "header_text = []\n",
    "for item in headers_3:\n",
    "    header_text.append(item.text)"
   ]
  },
  {
   "cell_type": "code",
   "execution_count": null,
   "id": "3be0c550",
   "metadata": {},
   "outputs": [],
   "source": [
    "header_text"
   ]
  },
  {
   "cell_type": "code",
   "execution_count": null,
   "id": "80196792",
   "metadata": {},
   "outputs": [],
   "source": []
  }
 ],
 "metadata": {
  "kernelspec": {
   "display_name": "Python 3",
   "language": "python",
   "name": "python3"
  },
  "language_info": {
   "codemirror_mode": {
    "name": "ipython",
    "version": 3
   },
   "file_extension": ".py",
   "mimetype": "text/x-python",
   "name": "python",
   "nbconvert_exporter": "python",
   "pygments_lexer": "ipython3",
   "version": "3.7.7"
  }
 },
 "nbformat": 4,
 "nbformat_minor": 5
}
