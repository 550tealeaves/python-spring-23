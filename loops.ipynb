{
 "cells": [
  {
   "cell_type": "code",
   "execution_count": 1,
   "id": "90f231b9",
   "metadata": {},
   "outputs": [
    {
     "name": "stdout",
     "output_type": "stream",
     "text": [
      "h\n",
      "e\n",
      "l\n",
      "l\n",
      "o\n"
     ]
    }
   ],
   "source": [
    "# syntax for writing a loop\n",
    "\n",
    "# for each item in this collection of data:\n",
    "\n",
    "for item in 'hello':\n",
    "    print(item)"
   ]
  },
  {
   "cell_type": "code",
   "execution_count": 2,
   "id": "26aadd44",
   "metadata": {},
   "outputs": [],
   "source": [
    "breakfast = ['oatmeal', 'cereal', 'smoothie', 'yoghurt']"
   ]
  },
  {
   "cell_type": "code",
   "execution_count": 3,
   "id": "29554ee7",
   "metadata": {},
   "outputs": [
    {
     "name": "stdout",
     "output_type": "stream",
     "text": [
      "oatmeal\n",
      "cereal\n",
      "smoothie\n",
      "yoghurt\n"
     ]
    }
   ],
   "source": [
    "for item in breakfast:\n",
    "    print(item)"
   ]
  },
  {
   "cell_type": "code",
   "execution_count": 5,
   "id": "94a918f6",
   "metadata": {},
   "outputs": [
    {
     "name": "stdout",
     "output_type": "stream",
     "text": [
      "oatmeal\n",
      "cereal\n",
      "smoothie\n",
      "yoghurt\n"
     ]
    }
   ],
   "source": [
    "# need to keep variable names consistant \n",
    "\n",
    "for x in breakfast:\n",
    "    print(x)"
   ]
  },
  {
   "cell_type": "code",
   "execution_count": 6,
   "id": "695655e5",
   "metadata": {},
   "outputs": [
    {
     "name": "stdout",
     "output_type": "stream",
     "text": [
      "F\n",
      "I\n",
      "L\n",
      "I\n",
      "P\n",
      "A\n",
      " \n",
      "C\n",
      "A\n",
      "L\n",
      "A\n",
      "D\n",
      "O\n"
     ]
    }
   ],
   "source": [
    "name = 'filipa calado'\n",
    "\n",
    "for item in name:\n",
    "    print(item.upper())"
   ]
  },
  {
   "cell_type": "code",
   "execution_count": null,
   "id": "8cb1ce5f",
   "metadata": {},
   "outputs": [],
   "source": [
    "# f-string (formatting for strings)\n",
    "\n",
    "print(f\"Hello, how are you, {1 + 1}?\")"
   ]
  },
  {
   "cell_type": "code",
   "execution_count": 7,
   "id": "775ce2ac",
   "metadata": {},
   "outputs": [
    {
     "name": "stdout",
     "output_type": "stream",
     "text": [
      "the square of 2 is 4\n",
      "the square of 3 is 9\n",
      "the square of 5 is 25\n",
      "the square of 7 is 49\n",
      "the square of 11 is 121\n",
      "the square of 13 is 169\n"
     ]
    }
   ],
   "source": [
    "# group challenge:\n",
    "\n",
    "# write a loop that prints out the square of a list of prime numbers.\n",
    "# include a print statement that says: \"the square of __ is __\"\n",
    "# the output you want for each of the numbers in the list: \n",
    "# \"the square of 2 is 4\"\n",
    "\n",
    "\n",
    "prime_numbers = [2, 3, 5, 7, 11, 13]\n",
    "\n",
    "for number in prime_numbers:\n",
    "    print(f\"the square of {number} is {number * number}\")\n",
    "\n",
    "# print(\"we've gone through one iteration of the loop\")"
   ]
  },
  {
   "cell_type": "code",
   "execution_count": 8,
   "id": "2ea7e433",
   "metadata": {},
   "outputs": [
    {
     "data": {
      "text/plain": [
       "['oatmeal', 'cereal', 'smoothie', 'yoghurt']"
      ]
     },
     "execution_count": 8,
     "metadata": {},
     "output_type": "execute_result"
    }
   ],
   "source": [
    "breakfast"
   ]
  },
  {
   "cell_type": "code",
   "execution_count": 9,
   "id": "4d817b5b",
   "metadata": {},
   "outputs": [
    {
     "data": {
      "text/plain": [
       "4"
      ]
     },
     "execution_count": 9,
     "metadata": {},
     "output_type": "execute_result"
    }
   ],
   "source": [
    "len(breakfast)"
   ]
  },
  {
   "cell_type": "code",
   "execution_count": 10,
   "id": "ee27d91f",
   "metadata": {},
   "outputs": [],
   "source": [
    "breakfast_length = len(breakfast)"
   ]
  },
  {
   "cell_type": "code",
   "execution_count": 12,
   "id": "f22db376",
   "metadata": {},
   "outputs": [
    {
     "name": "stdout",
     "output_type": "stream",
     "text": [
      "4\n"
     ]
    }
   ],
   "source": [
    "print(breakfast_length)"
   ]
  },
  {
   "cell_type": "code",
   "execution_count": 13,
   "id": "748cf61d",
   "metadata": {},
   "outputs": [
    {
     "data": {
      "text/plain": [
       "int"
      ]
     },
     "execution_count": 13,
     "metadata": {},
     "output_type": "execute_result"
    }
   ],
   "source": [
    "type(breakfast_length)"
   ]
  },
  {
   "cell_type": "code",
   "execution_count": null,
   "id": "99565eff",
   "metadata": {},
   "outputs": [],
   "source": [
    "def prime_square(numbers):\n",
    "    # prime_numbers = [2, 3, 5, 7, 11, 13]\n",
    "    for number in numbers:\n",
    "        print(f\"the square of {number} is {number **2}\")"
   ]
  },
  {
   "cell_type": "code",
   "execution_count": null,
   "id": "29c6c5ce",
   "metadata": {},
   "outputs": [],
   "source": [
    "numbers = [1, 2, 3, 4]\n",
    "\n",
    "prime_square(numbers)"
   ]
  },
  {
   "cell_type": "code",
   "execution_count": null,
   "id": "061fe4e2",
   "metadata": {},
   "outputs": [],
   "source": []
  }
 ],
 "metadata": {
  "kernelspec": {
   "display_name": "Python 3",
   "language": "python",
   "name": "python3"
  },
  "language_info": {
   "codemirror_mode": {
    "name": "ipython",
    "version": 3
   },
   "file_extension": ".py",
   "mimetype": "text/x-python",
   "name": "python",
   "nbconvert_exporter": "python",
   "pygments_lexer": "ipython3",
   "version": "3.10.10"
  }
 },
 "nbformat": 4,
 "nbformat_minor": 5
}
