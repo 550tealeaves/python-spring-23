{
 "cells": [
  {
   "cell_type": "code",
   "execution_count": null,
   "id": "32dc0829",
   "metadata": {},
   "outputs": [],
   "source": [
    "# syntax for writing a loop\n",
    "\n",
    "# for each item in this collection of data:\n",
    "for item in 'hello':\n",
    "    print(item)"
   ]
  },
  {
   "cell_type": "code",
   "execution_count": null,
   "id": "2538d291",
   "metadata": {},
   "outputs": [],
   "source": [
    "breakfast = ['oatmeal', 'cereal', 'smoothie', 'yoghurt']"
   ]
  },
  {
   "cell_type": "code",
   "execution_count": null,
   "id": "d867a2f1",
   "metadata": {},
   "outputs": [],
   "source": [
    "for item in breakfast:\n",
    "    print(item)"
   ]
  },
  {
   "cell_type": "code",
   "execution_count": null,
   "id": "e4e26b13",
   "metadata": {},
   "outputs": [],
   "source": [
    "for x in breakfast:\n",
    "    print(y)"
   ]
  },
  {
   "cell_type": "code",
   "execution_count": null,
   "id": "a3b6a206",
   "metadata": {},
   "outputs": [],
   "source": [
    "name = 'filipa calado'\n",
    "\n",
    "for item in name:\n",
    "    print(item.upper())"
   ]
  },
  {
   "cell_type": "code",
   "execution_count": null,
   "id": "60b54029",
   "metadata": {},
   "outputs": [],
   "source": [
    "# f-string (formatting for strings)\n",
    "\n",
    "print(f\"Hello, how are you, {1 + 1}?\")"
   ]
  },
  {
   "cell_type": "code",
   "execution_count": null,
   "id": "9a3cf1eb",
   "metadata": {},
   "outputs": [],
   "source": [
    "# group challenge:\n",
    "\n",
    "# write a loop that prints out the square of a list of prime numbers.\n",
    "# include a print statement that says: \"the square of __ is __\"\n",
    "# the output you want for each of the numbers in the list: \n",
    "# \"the square of 2 is 4\"\n",
    "\n",
    "\n",
    "prime_numbers = [2, 3, 5, 7, 11, 13]\n",
    "\n",
    "for number in prime_numbers:\n",
    "    print(f\"the square of {number} is {number **3}\".upper())\n",
    "\n",
    "# print(\"we've gone through one iteration of the loop\")"
   ]
  },
  {
   "cell_type": "code",
   "execution_count": null,
   "id": "a875ec5e",
   "metadata": {},
   "outputs": [],
   "source": [
    "breakfast"
   ]
  },
  {
   "cell_type": "code",
   "execution_count": null,
   "id": "c2bfda76",
   "metadata": {},
   "outputs": [],
   "source": [
    "b_length = len(breakfast)\n",
    "print(b_length)"
   ]
  },
  {
   "cell_type": "code",
   "execution_count": null,
   "id": "e1e76376",
   "metadata": {},
   "outputs": [],
   "source": [
    "def prime_square(numbers):\n",
    "    # prime_numbers = [2, 3, 5, 7, 11, 13]\n",
    "    for number in numbers:\n",
    "        print(f\"the square of {number} is {number **2}\")"
   ]
  },
  {
   "cell_type": "code",
   "execution_count": null,
   "id": "cf1ec79a",
   "metadata": {},
   "outputs": [],
   "source": [
    "numbers = [1, 2, 3, 4]\n",
    "\n",
    "prime_square(numbers)"
   ]
  },
  {
   "cell_type": "code",
   "execution_count": null,
   "id": "ebaf0dcf",
   "metadata": {},
   "outputs": [],
   "source": []
  }
 ],
 "metadata": {
  "kernelspec": {
   "display_name": "Python 3",
   "language": "python",
   "name": "python3"
  },
  "language_info": {
   "codemirror_mode": {
    "name": "ipython",
    "version": 3
   },
   "file_extension": ".py",
   "mimetype": "text/x-python",
   "name": "python",
   "nbconvert_exporter": "python",
   "pygments_lexer": "ipython3",
   "version": "3.7.7"
  }
 },
 "nbformat": 4,
 "nbformat_minor": 5
}
