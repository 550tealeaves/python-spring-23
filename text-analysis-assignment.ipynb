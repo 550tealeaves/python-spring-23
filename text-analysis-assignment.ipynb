{
 "cells": [
  {
   "cell_type": "markdown",
   "metadata": {},
   "source": [
    "# text analysis assignment"
   ]
  },
  {
   "cell_type": "markdown",
   "metadata": {},
   "source": [
    "## instructions\n",
    "For this text analysis assignment, you will choose between the following possibilities\n",
    "1. Text analysis of **gender** from texts in nltk.book.\n",
    "2. Text analysis of **monsters** from texts in nltk.book\n",
    "3. Text analysis of a topic of your choosing. \n",
    "\n",
    "If you choose **genders**, do the following:\n",
    "- Load up nltk.book. Choose one text by a man and one text by a woman.\n",
    "- Load and clean the text using the functions defined in the `nltk: text analysis` class notes.\n",
    "- Do some text analysis using at least four NLTK methods like:\n",
    "    - `similar()`, `concordance()`, `distribution_plot([])`, `collocations()`, and `common_contexts([])`\n",
    "    - check word counts with `text.vocab().most_common(20)` \n",
    "- Write a paragraph (5 - 7 sentences) about your results, and answer the following questions:\n",
    "   - What did you discover about the way gender is portrayed across the two texts? \n",
    "   - Based on your exploration so far, what kind of further questions could you ask about the topic or data?\n",
    "\n",
    "If you choose **monsters**, do the following:\n",
    "- Load up nltk.book. Select two texts, *Dracula* and *Frankenstein*.\n",
    "- Load and clean the text using the functions defined in the `nltk: text analysis` class notes.\n",
    "- Do some text analysis using at least four NLTK methods like:\n",
    "    - `similar()`, `concordance()`, `distribution_plot([])`, `collocations()`, and `common_contexts([])`\n",
    "    - check word counts with `text.vocab().most_common(20)` \n",
    "- Write a paragraph (5 - 7 sentences) about your results, and answer the following questions:\n",
    "   - What did you discover about the way monsters are portrayed across the two texts? \n",
    "   - Based on your exploration so far, what kind of further questions could you ask about the topic or data?\n",
    "   \n",
    "If you choose to do your own topic, follow the above process for cleaning and analysis. Then, write a paragraph (5 - 7 sentences) about your results, answering the following questions:\n",
    "   - What did you discover about your topic? What patterns emerged from the analysis? \n",
    "   - Based on your exploration so far, what kind of further questions could you ask about the topic or data?"
   ]
  },
  {
   "cell_type": "code",
   "execution_count": null,
   "metadata": {
    "vscode": {
     "languageId": "plaintext"
    }
   },
   "outputs": [],
   "source": [
    "# first, below this cell, select and clean your texts"
   ]
  },
  {
   "cell_type": "code",
   "execution_count": null,
   "metadata": {},
   "outputs": [],
   "source": [
    "def clean(url):\n",
    "    stops = stopwords.words('english')\n",
    "    wordnet_lemmatizer = WordNetLemmatizer()\n",
    "    \n",
    "    open_url = urlopen(url)\n",
    "    read_text = open_url.read()\n",
    "    decoded_text = read_text.decode()\n",
    "    tokens = nltk.word_tokenize(decoded_text)\n",
    "    \n",
    "    text = [] \n",
    "    for word in tokens:\n",
    "        if word.isalpha(): \n",
    "            if word not in stops:\n",
    "                lemma = wordnet_lemmatizer.lemmatize(word)\n",
    "                text.append(word.lower())     \n",
    "    \n",
    "    return text"
   ]
  },
  {
   "cell_type": "code",
   "execution_count": null,
   "metadata": {
    "vscode": {
     "languageId": "plaintext"
    }
   },
   "outputs": [],
   "source": [
    "# second, below this cell, do some text analysis with NLTK across both texts"
   ]
  },
  {
   "cell_type": "code",
   "execution_count": null,
   "metadata": {
    "vscode": {
     "languageId": "plaintext"
    }
   },
   "outputs": [],
   "source": [
    "# third, below this cell, write a paragraph about your results"
   ]
  }
 ],
 "metadata": {
  "kernelspec": {
   "display_name": "Python 3",
   "language": "python",
   "name": "python3"
  },
  "language_info": {
   "codemirror_mode": {
    "name": "ipython",
    "version": 3
   },
   "file_extension": ".py",
   "mimetype": "text/x-python",
   "name": "python",
   "nbconvert_exporter": "python",
   "pygments_lexer": "ipython3",
   "version": "3.7.7"
  }
 },
 "nbformat": 4,
 "nbformat_minor": 2
}
