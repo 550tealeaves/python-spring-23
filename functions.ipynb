{
 "cells": [
  {
   "cell_type": "markdown",
   "id": "d6325078",
   "metadata": {},
   "source": [
    "# Functions"
   ]
  },
  {
   "cell_type": "code",
   "execution_count": 3,
   "id": "4ae0dd84",
   "metadata": {},
   "outputs": [],
   "source": [
    "# defining the function\n",
    "\n",
    "def addition():\n",
    "    print(2 + 7)"
   ]
  },
  {
   "cell_type": "code",
   "execution_count": 4,
   "id": "b4cf7f45",
   "metadata": {},
   "outputs": [
    {
     "name": "stdout",
     "output_type": "stream",
     "text": [
      "9\n"
     ]
    }
   ],
   "source": [
    "# calling the function\n",
    "\n",
    "addition()"
   ]
  },
  {
   "cell_type": "code",
   "execution_count": 5,
   "id": "7da26fb9",
   "metadata": {},
   "outputs": [],
   "source": [
    "def addition_with_input(a, b):\n",
    "    print(a + b)"
   ]
  },
  {
   "cell_type": "code",
   "execution_count": 6,
   "id": "fdf13acf",
   "metadata": {},
   "outputs": [
    {
     "name": "stdout",
     "output_type": "stream",
     "text": [
      "8\n"
     ]
    }
   ],
   "source": [
    "addition_with_input(5, 3)"
   ]
  },
  {
   "cell_type": "code",
   "execution_count": 7,
   "id": "04f66766",
   "metadata": {},
   "outputs": [
    {
     "name": "stdout",
     "output_type": "stream",
     "text": [
      "Print a string!\n"
     ]
    }
   ],
   "source": [
    "print(\"Print a string!\")"
   ]
  },
  {
   "cell_type": "code",
   "execution_count": 13,
   "id": "b26369b7",
   "metadata": {},
   "outputs": [],
   "source": [
    "lunch = ['turkey sandwich', 'protein bar', 'oatmeal']"
   ]
  },
  {
   "cell_type": "code",
   "execution_count": 14,
   "id": "c1ac80b4",
   "metadata": {},
   "outputs": [
    {
     "name": "stdout",
     "output_type": "stream",
     "text": [
      "For lunch today, I ate ['turkey sandwich', 'protein bar', 'oatmeal']\n"
     ]
    }
   ],
   "source": [
    "print(f\"For lunch today, I ate {lunch}\")"
   ]
  },
  {
   "cell_type": "code",
   "execution_count": 15,
   "id": "82814488",
   "metadata": {},
   "outputs": [],
   "source": [
    "def greeting(name):\n",
    "    print(name)"
   ]
  },
  {
   "cell_type": "code",
   "execution_count": 16,
   "id": "c72e6dd4",
   "metadata": {},
   "outputs": [
    {
     "name": "stdout",
     "output_type": "stream",
     "text": [
      "Filipa\n"
     ]
    }
   ],
   "source": [
    "greeting('Filipa')"
   ]
  },
  {
   "cell_type": "code",
   "execution_count": null,
   "id": "754fc8b4",
   "metadata": {},
   "outputs": [],
   "source": [
    "# write a function called \"greeting\" which prints a personalized \n",
    "# greeting such as \"Hello\" or \"good morning\" to whatever name is passed\n",
    "# into the function call. "
   ]
  },
  {
   "cell_type": "code",
   "execution_count": 25,
   "id": "4b2fade3",
   "metadata": {},
   "outputs": [],
   "source": [
    "def greeting(name):\n",
    "    print(f\"Good afternoon {name}\")"
   ]
  },
  {
   "cell_type": "code",
   "execution_count": 29,
   "id": "63355c5c",
   "metadata": {},
   "outputs": [
    {
     "name": "stdout",
     "output_type": "stream",
     "text": [
      "Good afternoon Maria\n"
     ]
    }
   ],
   "source": [
    "greeting('Maria')"
   ]
  },
  {
   "cell_type": "code",
   "execution_count": 30,
   "id": "d0a15f54",
   "metadata": {},
   "outputs": [
    {
     "data": {
      "text/plain": [
       "19"
      ]
     },
     "execution_count": 30,
     "metadata": {},
     "output_type": "execute_result"
    }
   ],
   "source": [
    "len('the Graduate Center')"
   ]
  },
  {
   "cell_type": "code",
   "execution_count": null,
   "id": "32c2e61f",
   "metadata": {},
   "outputs": [],
   "source": []
  }
 ],
 "metadata": {
  "kernelspec": {
   "display_name": "Python 3",
   "language": "python",
   "name": "python3"
  },
  "language_info": {
   "codemirror_mode": {
    "name": "ipython",
    "version": 3
   },
   "file_extension": ".py",
   "mimetype": "text/x-python",
   "name": "python",
   "nbconvert_exporter": "python",
   "pygments_lexer": "ipython3",
   "version": "3.7.7"
  }
 },
 "nbformat": 4,
 "nbformat_minor": 5
}
