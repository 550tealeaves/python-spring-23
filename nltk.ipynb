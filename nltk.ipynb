{
 "cells": [
  {
   "cell_type": "code",
   "execution_count": 2,
   "id": "081e03ca",
   "metadata": {},
   "outputs": [],
   "source": [
    "# importing the libraries we need for text analysis and text cleaning\n",
    "\n",
    "import nltk\n",
    "from nltk.corpus import stopwords\n",
    "# for google colab:\n",
    "# nltk.download('stopwords')"
   ]
  },
  {
   "cell_type": "code",
   "execution_count": 3,
   "id": "f2d4820f",
   "metadata": {},
   "outputs": [
    {
     "name": "stdout",
     "output_type": "stream",
     "text": [
      "*** Introductory Examples for the NLTK Book ***\n",
      "Loading text1, ..., text9 and sent1, ..., sent9\n",
      "Type the name of the text or sentence to view it.\n",
      "Type: 'texts()' or 'sents()' to list the materials.\n",
      "text1: Moby Dick by Herman Melville 1851\n",
      "text2: Sense and Sensibility by Jane Austen 1811\n",
      "text3: The Book of Genesis\n",
      "text4: Inaugural Address Corpus\n",
      "text5: Chat Corpus\n",
      "text6: Monty Python and the Holy Grail\n",
      "text7: Wall Street Journal\n",
      "text8: Personals Corpus\n",
      "text9: The Man Who Was Thursday by G . K . Chesterton 1908\n"
     ]
    }
   ],
   "source": [
    "# importing the texts that come with NLTK for text analysis\n",
    "\n",
    "from nltk.book import *"
   ]
  },
  {
   "cell_type": "code",
   "execution_count": 4,
   "id": "507e45ea",
   "metadata": {},
   "outputs": [
    {
     "data": {
      "text/plain": [
       "nltk.text.Text"
      ]
     },
     "execution_count": 4,
     "metadata": {},
     "output_type": "execute_result"
    }
   ],
   "source": [
    "# checking the type of our text\n",
    "# we have a \"nltk.text.Text\" object which allows us to use NLTK methods\n",
    "\n",
    "type(text8)"
   ]
  },
  {
   "cell_type": "code",
   "execution_count": 5,
   "id": "e1c5c39a",
   "metadata": {},
   "outputs": [
    {
     "data": {
      "text/plain": [
       "['25', 'SEXY', 'MALE', ',', 'seeks', 'attrac', 'older', 'single', 'lady', ',']"
      ]
     },
     "execution_count": 5,
     "metadata": {},
     "output_type": "execute_result"
    }
   ],
   "source": [
    "# check the first 10 words of our text\n",
    "\n",
    "text8[:10]"
   ]
  },
  {
   "cell_type": "code",
   "execution_count": 6,
   "id": "40b5026e",
   "metadata": {},
   "outputs": [
    {
     "name": "stdout",
     "output_type": "stream",
     "text": [
      "female looking woman male discreet fem down casual dog\n"
     ]
    }
   ],
   "source": [
    "# nltk comes with \"methods\" like similar(), which check which words\n",
    "# occur around a target word, \"lady\", that we pass into the parameter\n",
    "\n",
    "text8.similar('lady')"
   ]
  },
  {
   "cell_type": "code",
   "execution_count": 10,
   "id": "8951d90e",
   "metadata": {},
   "outputs": [
    {
     "name": "stdout",
     "output_type": "stream",
     "text": [
      "young\n"
     ]
    }
   ],
   "source": [
    "# we can also pass \"man\"\n",
    "\n",
    "text8.similar('man')"
   ]
  },
  {
   "cell_type": "code",
   "execution_count": 11,
   "id": "dac34848",
   "metadata": {},
   "outputs": [
    {
     "name": "stdout",
     "output_type": "stream",
     "text": [
      "Displaying 14 of 14 matches:\n",
      " to hearing from you all . ABLE young man seeks , sexy older women . Phone for \n",
      "ble relationship . GENUINE ATTRACTIVE MAN 40 y . o ., no ties , secure , 5 ft .\n",
      "ship , and quality times . VIETNAMESE MAN Single , never married , financially \n",
      "ip . WELL DRESSED emotionally healthy man 37 like to meet full figured woman fo\n",
      " nth subs LIKE TO BE MISTRESS of YOUR MAN like to be treated well . Bold DTE no\n",
      "eeks lady in similar position MARRIED MAN 50 , attrac . fit , seeks lady 40 - 5\n",
      "eks nice girl 25 - 30 serious rship . Man 46 attractive fit , assertive , and k\n",
      " 40 - 50 sought by Aussie mid 40s b / man f / ship r / ship LOVE to meet widowe\n",
      "discreet times . Sth E Subs . MARRIED MAN 42yo 6ft , fit , seeks Lady for discr\n",
      "woman , seeks professional , employed man , with interests in theatre , dining \n",
      " tall and of large build seeks a good man . I am a nonsmoker , social drinker ,\n",
      "lead to relationship . SEEKING HONEST MAN I am 41 y . o ., 5 ft . 4 , med . bui\n",
      " quiet times . Seeks 35 - 45 , honest man with good SOH & similar interests , f\n",
      " genuine , caring , honest and normal man for fship , poss rship . S / S , S / \n"
     ]
    }
   ],
   "source": [
    "# the concordance method gets a \"context window\" surrounding our target word\n",
    "\n",
    "text8.concordance('man')"
   ]
  },
  {
   "cell_type": "code",
   "execution_count": 13,
   "id": "121e5e42",
   "metadata": {},
   "outputs": [
    {
     "data": {
      "image/png": "[encoded data removed]",
      "text/plain": [
       "<Figure size 432x288 with 1 Axes>"
      ]
     },
     "metadata": {
      "needs_background": "light"
     },
     "output_type": "display_data"
    }
   ],
   "source": [
    "# the dispersion plot method visualizes where words appear in a text.\n",
    "# it shows us a little chronology of where the words crop up throughout\n",
    "# the story.\n",
    "\n",
    "text6.dispersion_plot(['Arthur', 'knight', 'Camelot'])"
   ]
  },
  {
   "cell_type": "markdown",
   "id": "bcd18bb6",
   "metadata": {},
   "source": [
    "## preprocessing the text"
   ]
  },
  {
   "cell_type": "markdown",
   "id": "d2f2d43f",
   "metadata": {},
   "source": [
    "Also known as \"cleaning\" or \"regularizing\" the text, which includes removing capital letters"
   ]
  },
  {
   "cell_type": "code",
   "execution_count": 14,
   "id": "211e3871",
   "metadata": {},
   "outputs": [
    {
     "data": {
      "text/plain": [
       "36"
      ]
     },
     "execution_count": 14,
     "metadata": {},
     "output_type": "execute_result"
    }
   ],
   "source": [
    "# count the times \"Arthur\" with a capital A appears\n",
    "\n",
    "text6.count('Arthur')"
   ]
  },
  {
   "cell_type": "code",
   "execution_count": 15,
   "id": "bba6a68b",
   "metadata": {},
   "outputs": [
    {
     "data": {
      "text/plain": [
       "225"
      ]
     },
     "execution_count": 15,
     "metadata": {},
     "output_type": "execute_result"
    }
   ],
   "source": [
    "# count the times \"Arthur\" with all capitals appears\n",
    "# this is a problem -- we want NLTK to count every instance, \n",
    "# and not to distinguish between capital and lowercase\n",
    "\n",
    "text6.count('ARTHUR')"
   ]
  },
  {
   "cell_type": "code",
   "execution_count": 16,
   "id": "24307615",
   "metadata": {},
   "outputs": [
    {
     "data": {
      "text/plain": [
       "['SCENE',\n",
       " '1',\n",
       " ':',\n",
       " '[',\n",
       " 'wind',\n",
       " ']',\n",
       " '[',\n",
       " 'clop',\n",
       " 'clop',\n",
       " 'clop',\n",
       " ']',\n",
       " 'KING',\n",
       " 'ARTHUR',\n",
       " ':',\n",
       " 'Whoa',\n",
       " 'there',\n",
       " '!',\n",
       " '[',\n",
       " 'clop',\n",
       " 'clop']"
      ]
     },
     "execution_count": 16,
     "metadata": {},
     "output_type": "execute_result"
    }
   ],
   "source": [
    "text6[:20]"
   ]
  },
  {
   "cell_type": "markdown",
   "id": "34f85fdd",
   "metadata": {},
   "source": [
    "## removing capital letters"
   ]
  },
  {
   "cell_type": "code",
   "execution_count": 24,
   "id": "2a7362a0",
   "metadata": {},
   "outputs": [],
   "source": [
    "# write a loop that removes capital letters\n",
    "\n",
    "# first create an empty list to put our new text (that has\n",
    "# no capitals)\n",
    "lowercase = []\n",
    "\n",
    "# then write a loop that goes to each word in the text,\n",
    "# lowercases the word, and appends it to our new list.\n",
    "for item in text6:\n",
    "    lowercase.append(item.lower())"
   ]
  },
  {
   "cell_type": "code",
   "execution_count": 25,
   "id": "dc79d7d4",
   "metadata": {},
   "outputs": [
    {
     "data": {
      "text/plain": [
       "['scene',\n",
       " '1',\n",
       " ':',\n",
       " '[',\n",
       " 'wind',\n",
       " ']',\n",
       " '[',\n",
       " 'clop',\n",
       " 'clop',\n",
       " 'clop',\n",
       " ']',\n",
       " 'king',\n",
       " 'arthur',\n",
       " ':',\n",
       " 'whoa',\n",
       " 'there',\n",
       " '!',\n",
       " '[',\n",
       " 'clop',\n",
       " 'clop']"
      ]
     },
     "execution_count": 25,
     "metadata": {},
     "output_type": "execute_result"
    }
   ],
   "source": [
    "# check the results\n",
    "\n",
    "lowercase[:20]"
   ]
  },
  {
   "cell_type": "code",
   "execution_count": 26,
   "id": "72690442",
   "metadata": {},
   "outputs": [
    {
     "data": {
      "text/plain": [
       "261"
      ]
     },
     "execution_count": 26,
     "metadata": {},
     "output_type": "execute_result"
    }
   ],
   "source": [
    "lowercase.count('arthur')"
   ]
  },
  {
   "cell_type": "code",
   "execution_count": 27,
   "id": "6332a99a",
   "metadata": {},
   "outputs": [],
   "source": [
    "loud_breakfast = ['COFFEE', 'OATMEAL', 'CEREAL', 'FISH', 'YOGURT']"
   ]
  },
  {
   "cell_type": "code",
   "execution_count": 28,
   "id": "4b86221e",
   "metadata": {},
   "outputs": [],
   "source": [
    "test = []\n",
    "\n",
    "for item in loud_breakfast:\n",
    "    test.append(item.lower())"
   ]
  },
  {
   "cell_type": "code",
   "execution_count": 29,
   "id": "a4719693",
   "metadata": {},
   "outputs": [
    {
     "data": {
      "text/plain": [
       "['coffee', 'oatmeal', 'cereal', 'fish', 'yogurt']"
      ]
     },
     "execution_count": 29,
     "metadata": {},
     "output_type": "execute_result"
    }
   ],
   "source": [
    "test"
   ]
  },
  {
   "cell_type": "code",
   "execution_count": 32,
   "id": "f55d95cc",
   "metadata": {},
   "outputs": [
    {
     "data": {
      "text/plain": [
       "[(':', 1197),\n",
       " ('.', 816),\n",
       " ('!', 801),\n",
       " (',', 731),\n",
       " (\"'\", 421),\n",
       " ('the', 334),\n",
       " ('[', 319),\n",
       " (']', 312),\n",
       " ('you', 265),\n",
       " ('arthur', 261),\n",
       " ('i', 260),\n",
       " ('a', 238),\n",
       " ('?', 207),\n",
       " ('and', 185),\n",
       " ('of', 178),\n",
       " ('to', 151),\n",
       " ('--', 148),\n",
       " ('s', 145),\n",
       " ('it', 142),\n",
       " ('no', 131)]"
      ]
     },
     "execution_count": 32,
     "metadata": {},
     "output_type": "execute_result"
    }
   ],
   "source": [
    "# saving list as an NLTK object so can run NLTK functions\n",
    "lowercase = nltk.Text(lowercase)\n",
    "\n",
    "# checking the most common strings\n",
    "lowercase.vocab().most_common(20)"
   ]
  },
  {
   "cell_type": "markdown",
   "id": "17461492",
   "metadata": {},
   "source": [
    "## removing punctuation and numbers"
   ]
  },
  {
   "cell_type": "code",
   "execution_count": 37,
   "id": "37b07695",
   "metadata": {},
   "outputs": [
    {
     "data": {
      "text/plain": [
       "False"
      ]
     },
     "execution_count": 37,
     "metadata": {},
     "output_type": "execute_result"
    }
   ],
   "source": [
    "'hello!'.isalpha()"
   ]
  },
  {
   "cell_type": "code",
   "execution_count": 36,
   "id": "304b41db",
   "metadata": {},
   "outputs": [
    {
     "data": {
      "text/plain": [
       "False"
      ]
     },
     "execution_count": 36,
     "metadata": {},
     "output_type": "execute_result"
    }
   ],
   "source": [
    "'7'.isalpha()"
   ]
  },
  {
   "cell_type": "code",
   "execution_count": 38,
   "id": "ced1031a",
   "metadata": {},
   "outputs": [],
   "source": [
    "no_punct = []\n",
    "\n",
    "for item in lowercase:\n",
    "    if item.isalpha():\n",
    "        no_punct.append(item)"
   ]
  },
  {
   "cell_type": "code",
   "execution_count": 39,
   "id": "81806fd1",
   "metadata": {},
   "outputs": [
    {
     "data": {
      "text/plain": [
       "['scene',\n",
       " 'wind',\n",
       " 'clop',\n",
       " 'clop',\n",
       " 'clop',\n",
       " 'king',\n",
       " 'arthur',\n",
       " 'whoa',\n",
       " 'there',\n",
       " 'clop']"
      ]
     },
     "execution_count": 39,
     "metadata": {},
     "output_type": "execute_result"
    }
   ],
   "source": [
    "no_punct[:10]"
   ]
  },
  {
   "cell_type": "code",
   "execution_count": 40,
   "id": "6b9f4e48",
   "metadata": {},
   "outputs": [],
   "source": [
    "no_punct = nltk.Text(no_punct)"
   ]
  },
  {
   "cell_type": "code",
   "execution_count": 41,
   "id": "d065a7de",
   "metadata": {},
   "outputs": [
    {
     "data": {
      "text/plain": [
       "[('the', 334),\n",
       " ('you', 265),\n",
       " ('arthur', 261),\n",
       " ('i', 260),\n",
       " ('a', 238),\n",
       " ('and', 185),\n",
       " ('of', 178),\n",
       " ('to', 151),\n",
       " ('s', 145),\n",
       " ('it', 142),\n",
       " ('no', 131),\n",
       " ('we', 122),\n",
       " ('oh', 112),\n",
       " ('is', 111),\n",
       " ('that', 106),\n",
       " ('launcelot', 101),\n",
       " ('in', 97),\n",
       " ('what', 92),\n",
       " ('he', 89),\n",
       " ('knight', 84)]"
      ]
     },
     "execution_count": 41,
     "metadata": {},
     "output_type": "execute_result"
    }
   ],
   "source": [
    "no_punct.vocab().most_common(20)"
   ]
  },
  {
   "cell_type": "code",
   "execution_count": 45,
   "id": "dcb74ec2",
   "metadata": {},
   "outputs": [],
   "source": [
    "stops = stopwords.words('english')"
   ]
  },
  {
   "cell_type": "code",
   "execution_count": 46,
   "id": "b5670106",
   "metadata": {},
   "outputs": [
    {
     "data": {
      "text/plain": [
       "['i',\n",
       " 'me',\n",
       " 'my',\n",
       " 'myself',\n",
       " 'we',\n",
       " 'our',\n",
       " 'ours',\n",
       " 'ourselves',\n",
       " 'you',\n",
       " \"you're\",\n",
       " \"you've\",\n",
       " \"you'll\",\n",
       " \"you'd\",\n",
       " 'your',\n",
       " 'yours',\n",
       " 'yourself',\n",
       " 'yourselves',\n",
       " 'he',\n",
       " 'him',\n",
       " 'his',\n",
       " 'himself',\n",
       " 'she',\n",
       " \"she's\",\n",
       " 'her',\n",
       " 'hers',\n",
       " 'herself',\n",
       " 'it',\n",
       " \"it's\",\n",
       " 'its',\n",
       " 'itself',\n",
       " 'they',\n",
       " 'them',\n",
       " 'their',\n",
       " 'theirs',\n",
       " 'themselves',\n",
       " 'what',\n",
       " 'which',\n",
       " 'who',\n",
       " 'whom',\n",
       " 'this',\n",
       " 'that',\n",
       " \"that'll\",\n",
       " 'these',\n",
       " 'those',\n",
       " 'am',\n",
       " 'is',\n",
       " 'are',\n",
       " 'was',\n",
       " 'were',\n",
       " 'be',\n",
       " 'been',\n",
       " 'being',\n",
       " 'have',\n",
       " 'has',\n",
       " 'had',\n",
       " 'having',\n",
       " 'do',\n",
       " 'does',\n",
       " 'did',\n",
       " 'doing',\n",
       " 'a',\n",
       " 'an',\n",
       " 'the',\n",
       " 'and',\n",
       " 'but',\n",
       " 'if',\n",
       " 'or',\n",
       " 'because',\n",
       " 'as',\n",
       " 'until',\n",
       " 'while',\n",
       " 'of',\n",
       " 'at',\n",
       " 'by',\n",
       " 'for',\n",
       " 'with',\n",
       " 'about',\n",
       " 'against',\n",
       " 'between',\n",
       " 'into',\n",
       " 'through',\n",
       " 'during',\n",
       " 'before',\n",
       " 'after',\n",
       " 'above',\n",
       " 'below',\n",
       " 'to',\n",
       " 'from',\n",
       " 'up',\n",
       " 'down',\n",
       " 'in',\n",
       " 'out',\n",
       " 'on',\n",
       " 'off',\n",
       " 'over',\n",
       " 'under',\n",
       " 'again',\n",
       " 'further',\n",
       " 'then',\n",
       " 'once',\n",
       " 'here',\n",
       " 'there',\n",
       " 'when',\n",
       " 'where',\n",
       " 'why',\n",
       " 'how',\n",
       " 'all',\n",
       " 'any',\n",
       " 'both',\n",
       " 'each',\n",
       " 'few',\n",
       " 'more',\n",
       " 'most',\n",
       " 'other',\n",
       " 'some',\n",
       " 'such',\n",
       " 'no',\n",
       " 'nor',\n",
       " 'not',\n",
       " 'only',\n",
       " 'own',\n",
       " 'same',\n",
       " 'so',\n",
       " 'than',\n",
       " 'too',\n",
       " 'very',\n",
       " 's',\n",
       " 't',\n",
       " 'can',\n",
       " 'will',\n",
       " 'just',\n",
       " 'don',\n",
       " \"don't\",\n",
       " 'should',\n",
       " \"should've\",\n",
       " 'now',\n",
       " 'd',\n",
       " 'll',\n",
       " 'm',\n",
       " 'o',\n",
       " 're',\n",
       " 've',\n",
       " 'y',\n",
       " 'ain',\n",
       " 'aren',\n",
       " \"aren't\",\n",
       " 'couldn',\n",
       " \"couldn't\",\n",
       " 'didn',\n",
       " \"didn't\",\n",
       " 'doesn',\n",
       " \"doesn't\",\n",
       " 'hadn',\n",
       " \"hadn't\",\n",
       " 'hasn',\n",
       " \"hasn't\",\n",
       " 'haven',\n",
       " \"haven't\",\n",
       " 'isn',\n",
       " \"isn't\",\n",
       " 'ma',\n",
       " 'mightn',\n",
       " \"mightn't\",\n",
       " 'mustn',\n",
       " \"mustn't\",\n",
       " 'needn',\n",
       " \"needn't\",\n",
       " 'shan',\n",
       " \"shan't\",\n",
       " 'shouldn',\n",
       " \"shouldn't\",\n",
       " 'wasn',\n",
       " \"wasn't\",\n",
       " 'weren',\n",
       " \"weren't\",\n",
       " 'won',\n",
       " \"won't\",\n",
       " 'wouldn',\n",
       " \"wouldn't\"]"
      ]
     },
     "execution_count": 46,
     "metadata": {},
     "output_type": "execute_result"
    }
   ],
   "source": [
    "stops"
   ]
  },
  {
   "cell_type": "code",
   "execution_count": 47,
   "id": "dc0ecbfc",
   "metadata": {},
   "outputs": [],
   "source": [
    "no_nonsense = []\n",
    "\n",
    "for i in no_punct:cc\n",
    "    if i not in stops:\n",
    "        no_nonsense.append(i)"
   ]
  },
  {
   "cell_type": "code",
   "execution_count": 49,
   "id": "66bc3435",
   "metadata": {},
   "outputs": [],
   "source": [
    "no_nonsense = nltk.Text(no_nonsense)"
   ]
  },
  {
   "cell_type": "code",
   "execution_count": 50,
   "id": "6c56c621",
   "metadata": {},
   "outputs": [
    {
     "data": {
      "text/plain": [
       "[('arthur', 261),\n",
       " ('oh', 112),\n",
       " ('launcelot', 101),\n",
       " ('knight', 84),\n",
       " ('galahad', 80),\n",
       " ('father', 75),\n",
       " ('sir', 72),\n",
       " ('ni', 69),\n",
       " ('bedevere', 67),\n",
       " ('knights', 65),\n",
       " ('well', 62),\n",
       " ('head', 59),\n",
       " ('ha', 59),\n",
       " ('robin', 58),\n",
       " ('right', 55),\n",
       " ('guard', 55),\n",
       " ('yes', 53),\n",
       " ('villager', 47),\n",
       " ('boom', 45),\n",
       " ('come', 44)]"
      ]
     },
     "execution_count": 50,
     "metadata": {},
     "output_type": "execute_result"
    }
   ],
   "source": [
    "no_nonsense.vocab().most_common(20)"
   ]
  },
  {
   "cell_type": "code",
   "execution_count": 51,
   "id": "6fee04d4",
   "metadata": {},
   "outputs": [],
   "source": [
    "clean = []\n",
    "\n",
    "for i in text6:\n",
    "    if i.isalpha():\n",
    "        if i not in stops:\n",
    "            clean.append(i.lower())"
   ]
  },
  {
   "cell_type": "code",
   "execution_count": 52,
   "id": "c7b74b0f",
   "metadata": {},
   "outputs": [
    {
     "data": {
      "text/plain": [
       "['scene',\n",
       " 'wind',\n",
       " 'clop',\n",
       " 'clop',\n",
       " 'clop',\n",
       " 'king',\n",
       " 'arthur',\n",
       " 'whoa',\n",
       " 'clop',\n",
       " 'clop']"
      ]
     },
     "execution_count": 52,
     "metadata": {},
     "output_type": "execute_result"
    }
   ],
   "source": [
    "clean[:10]"
   ]
  },
  {
   "cell_type": "code",
   "execution_count": null,
   "id": "ff802ddc",
   "metadata": {},
   "outputs": [],
   "source": []
  }
 ],
 "metadata": {
  "kernelspec": {
   "display_name": "Python 3",
   "language": "python",
   "name": "python3"
  },
  "language_info": {
   "codemirror_mode": {
    "name": "ipython",
    "version": 3
   },
   "file_extension": ".py",
   "mimetype": "text/x-python",
   "name": "python",
   "nbconvert_exporter": "python",
   "pygments_lexer": "ipython3",
   "version": "3.7.7"
  }
 },
 "nbformat": 4,
 "nbformat_minor": 5
}
