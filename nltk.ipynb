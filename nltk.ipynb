{
 "cells": [
  {
   "cell_type": "code",
   "execution_count": 2,
   "id": "e0716526",
   "metadata": {},
   "outputs": [],
   "source": [
    "# importing the libraries we need for text analysis and text cleaning\n",
    "\n",
    "import nltk\n",
    "from nltk.corpus import stopwords\n",
    "# for google colab:\n",
    "# nltk.download('stopwords')"
   ]
  },
  {
   "cell_type": "code",
   "execution_count": 3,
   "id": "2a5cf0ce",
   "metadata": {},
   "outputs": [
    {
     "name": "stdout",
     "output_type": "stream",
     "text": [
      "*** Introductory Examples for the NLTK Book ***\n",
      "Loading text1, ..., text9 and sent1, ..., sent9\n",
      "Type the name of the text or sentence to view it.\n",
      "Type: 'texts()' or 'sents()' to list the materials.\n",
      "text1: Moby Dick by Herman Melville 1851\n",
      "text2: Sense and Sensibility by Jane Austen 1811\n",
      "text3: The Book of Genesis\n",
      "text4: Inaugural Address Corpus\n",
      "text5: Chat Corpus\n",
      "text6: Monty Python and the Holy Grail\n",
      "text7: Wall Street Journal\n",
      "text8: Personals Corpus\n",
      "text9: The Man Who Was Thursday by G . K . Chesterton 1908\n"
     ]
    }
   ],
   "source": [
    "# importing the texts that come with NLTK for text analysis\n",
    "\n",
    "from nltk.book import *"
   ]
  },
  {
   "cell_type": "code",
   "execution_count": 4,
   "id": "778378f1",
   "metadata": {},
   "outputs": [
    {
     "data": {
      "text/plain": [
       "nltk.text.Text"
      ]
     },
     "execution_count": 4,
     "metadata": {},
     "output_type": "execute_result"
    }
   ],
   "source": [
    "# checking the type of our text\n",
    "# we have a \"nltk.text.Text\" object which allows us to use NLTK methods\n",
    "\n",
    "type(text8)"
   ]
  },
  {
   "cell_type": "code",
   "execution_count": 5,
   "id": "56ed9ba4",
   "metadata": {},
   "outputs": [
    {
     "data": {
      "text/plain": [
       "['25', 'SEXY', 'MALE', ',', 'seeks', 'attrac', 'older', 'single', 'lady', ',']"
      ]
     },
     "execution_count": 5,
     "metadata": {},
     "output_type": "execute_result"
    }
   ],
   "source": [
    "# check the first 10 words of our text\n",
    "\n",
    "text8[:10]"
   ]
  },
  {
   "cell_type": "code",
   "execution_count": 6,
   "id": "35d30a4b",
   "metadata": {},
   "outputs": [
    {
     "name": "stdout",
     "output_type": "stream",
     "text": [
      "female looking woman male discreet fem down casual dog\n"
     ]
    }
   ],
   "source": [
    "# nltk comes with \"methods\" like similar(), which check which words\n",
    "# occur around a target word, \"lady\", that we pass into the parameter\n",
    "\n",
    "text8.similar('lady')"
   ]
  },
  {
   "cell_type": "code",
   "execution_count": 10,
   "id": "d5536d61",
   "metadata": {},
   "outputs": [
    {
     "name": "stdout",
     "output_type": "stream",
     "text": [
      "young\n"
     ]
    }
   ],
   "source": [
    "# we can also pass \"man\"\n",
    "\n",
    "text8.similar('man')"
   ]
  },
  {
   "cell_type": "code",
   "execution_count": 11,
   "id": "175c0a38",
   "metadata": {},
   "outputs": [
    {
     "name": "stdout",
     "output_type": "stream",
     "text": [
      "Displaying 14 of 14 matches:\n",
      " to hearing from you all . ABLE young man seeks , sexy older women . Phone for \n",
      "ble relationship . GENUINE ATTRACTIVE MAN 40 y . o ., no ties , secure , 5 ft .\n",
      "ship , and quality times . VIETNAMESE MAN Single , never married , financially \n",
      "ip . WELL DRESSED emotionally healthy man 37 like to meet full figured woman fo\n",
      " nth subs LIKE TO BE MISTRESS of YOUR MAN like to be treated well . Bold DTE no\n",
      "eeks lady in similar position MARRIED MAN 50 , attrac . fit , seeks lady 40 - 5\n",
      "eks nice girl 25 - 30 serious rship . Man 46 attractive fit , assertive , and k\n",
      " 40 - 50 sought by Aussie mid 40s b / man f / ship r / ship LOVE to meet widowe\n",
      "discreet times . Sth E Subs . MARRIED MAN 42yo 6ft , fit , seeks Lady for discr\n",
      "woman , seeks professional , employed man , with interests in theatre , dining \n",
      " tall and of large build seeks a good man . I am a nonsmoker , social drinker ,\n",
      "lead to relationship . SEEKING HONEST MAN I am 41 y . o ., 5 ft . 4 , med . bui\n",
      " quiet times . Seeks 35 - 45 , honest man with good SOH & similar interests , f\n",
      " genuine , caring , honest and normal man for fship , poss rship . S / S , S / \n"
     ]
    }
   ],
   "source": [
    "# the concordance method gets a \"context window\" surrounding our target word\n",
    "\n",
    "text8.concordance('man')"
   ]
  },
  {
   "cell_type": "code",
   "execution_count": 5,
   "id": "17270d52",
   "metadata": {},
   "outputs": [
    {
     "data": {
      "image/png": "[encoded data removed]",
      "text/plain": [
       "<Figure size 432x288 with 1 Axes>"
      ]
     },
     "metadata": {
      "needs_background": "light"
     },
     "output_type": "display_data"
    }
   ],
   "source": [
    "# the dispersion plot method visualizes where words appear in a text.\n",
    "# it shows us a little chronology of where the words crop up throughout\n",
    "# the story.\n",
    "\n",
    "text6.dispersion_plot(['Arthur', 'knight', 'Camelot'])"
   ]
  },
  {
   "cell_type": "markdown",
   "id": "90fa48ad",
   "metadata": {},
   "source": [
    "## preprocessing the text"
   ]
  },
  {
   "cell_type": "markdown",
   "id": "a2895be5",
   "metadata": {},
   "source": [
    "Also known as \"cleaning\" or \"regularizing\" the text, which includes removing capital letters"
   ]
  },
  {
   "cell_type": "code",
   "execution_count": 14,
   "id": "28bf1da1",
   "metadata": {},
   "outputs": [
    {
     "data": {
      "text/plain": [
       "36"
      ]
     },
     "execution_count": 14,
     "metadata": {},
     "output_type": "execute_result"
    }
   ],
   "source": [
    "# count the times \"Arthur\" with a capital A appears\n",
    "\n",
    "text6.count('Arthur')"
   ]
  },
  {
   "cell_type": "code",
   "execution_count": 15,
   "id": "aa485cea",
   "metadata": {},
   "outputs": [
    {
     "data": {
      "text/plain": [
       "225"
      ]
     },
     "execution_count": 15,
     "metadata": {},
     "output_type": "execute_result"
    }
   ],
   "source": [
    "# count the times \"Arthur\" with all capitals appears\n",
    "# this is a problem -- we want NLTK to count every instance, \n",
    "# and not to distinguish between capital and lowercase\n",
    "\n",
    "text6.count('ARTHUR')"
   ]
  },
  {
   "cell_type": "code",
   "execution_count": 16,
   "id": "49fbfcdc",
   "metadata": {},
   "outputs": [
    {
     "data": {
      "text/plain": [
       "['SCENE',\n",
       " '1',\n",
       " ':',\n",
       " '[',\n",
       " 'wind',\n",
       " ']',\n",
       " '[',\n",
       " 'clop',\n",
       " 'clop',\n",
       " 'clop',\n",
       " ']',\n",
       " 'KING',\n",
       " 'ARTHUR',\n",
       " ':',\n",
       " 'Whoa',\n",
       " 'there',\n",
       " '!',\n",
       " '[',\n",
       " 'clop',\n",
       " 'clop']"
      ]
     },
     "execution_count": 16,
     "metadata": {},
     "output_type": "execute_result"
    }
   ],
   "source": [
    "text6[:20]"
   ]
  },
  {
   "cell_type": "markdown",
   "id": "d9e156dc",
   "metadata": {},
   "source": [
    "## removing capital letters"
   ]
  },
  {
   "cell_type": "code",
   "execution_count": 12,
   "id": "56ae81d2",
   "metadata": {},
   "outputs": [],
   "source": [
    "# write a loop that removes capital letters\n",
    "\n",
    "# first create an empty list to put our new text (that has\n",
    "# no capitals)\n",
    "lowercase = []\n",
    "\n",
    "# then write a loop that goes to each word in the text,\n",
    "# lowercases the word, and appends it to our new list.\n",
    "for token in text6:\n",
    "    lowercase.append(token.lower())"
   ]
  },
  {
   "cell_type": "code",
   "execution_count": 7,
   "id": "9d6d78e3",
   "metadata": {},
   "outputs": [
    {
     "data": {
      "text/plain": [
       "['scene',\n",
       " '1',\n",
       " ':',\n",
       " '[',\n",
       " 'wind',\n",
       " ']',\n",
       " '[',\n",
       " 'clop',\n",
       " 'clop',\n",
       " 'clop',\n",
       " ']',\n",
       " 'king',\n",
       " 'arthur',\n",
       " ':',\n",
       " 'whoa',\n",
       " 'there',\n",
       " '!',\n",
       " '[',\n",
       " 'clop',\n",
       " 'clop']"
      ]
     },
     "execution_count": 7,
     "metadata": {},
     "output_type": "execute_result"
    }
   ],
   "source": [
    "# check the results\n",
    "\n",
    "lowercase[:20]"
   ]
  },
  {
   "cell_type": "code",
   "execution_count": 26,
   "id": "27b12268",
   "metadata": {},
   "outputs": [
    {
     "data": {
      "text/plain": [
       "261"
      ]
     },
     "execution_count": 26,
     "metadata": {},
     "output_type": "execute_result"
    }
   ],
   "source": [
    "lowercase.count('arthur')"
   ]
  },
  {
   "cell_type": "code",
   "execution_count": 27,
   "id": "317c1b20",
   "metadata": {},
   "outputs": [],
   "source": [
    "loud_breakfast = ['COFFEE', 'OATMEAL', 'CEREAL', 'FISH', 'YOGURT']"
   ]
  },
  {
   "cell_type": "code",
   "execution_count": 28,
   "id": "6abb25f4",
   "metadata": {},
   "outputs": [],
   "source": [
    "test = []\n",
    "\n",
    "for item in loud_breakfast:\n",
    "    test.append(item.lower())"
   ]
  },
  {
   "cell_type": "code",
   "execution_count": 29,
   "id": "f4aff501",
   "metadata": {},
   "outputs": [
    {
     "data": {
      "text/plain": [
       "['coffee', 'oatmeal', 'cereal', 'fish', 'yogurt']"
      ]
     },
     "execution_count": 29,
     "metadata": {},
     "output_type": "execute_result"
    }
   ],
   "source": [
    "test"
   ]
  },
  {
   "cell_type": "code",
   "execution_count": 13,
   "id": "f65d46d6",
   "metadata": {},
   "outputs": [
    {
     "data": {
      "text/plain": [
       "list"
      ]
     },
     "execution_count": 13,
     "metadata": {},
     "output_type": "execute_result"
    }
   ],
   "source": [
    "type(lowercase)"
   ]
  },
  {
   "cell_type": "code",
   "execution_count": 15,
   "id": "17e69e3f",
   "metadata": {},
   "outputs": [
    {
     "data": {
      "text/plain": [
       "[(':', 1197),\n",
       " ('.', 816),\n",
       " ('!', 801),\n",
       " (',', 731),\n",
       " (\"'\", 421),\n",
       " ('the', 334),\n",
       " ('[', 319),\n",
       " (']', 312),\n",
       " ('you', 265),\n",
       " ('arthur', 261),\n",
       " ('i', 260),\n",
       " ('a', 238),\n",
       " ('?', 207),\n",
       " ('and', 185),\n",
       " ('of', 178),\n",
       " ('to', 151),\n",
       " ('--', 148),\n",
       " ('s', 145),\n",
       " ('it', 142),\n",
       " ('no', 131)]"
      ]
     },
     "execution_count": 15,
     "metadata": {},
     "output_type": "execute_result"
    }
   ],
   "source": [
    "# saving list as an NLTK object so can run NLTK functions\n",
    "lower = nltk.Text(lowercase)\n",
    "\n",
    "# checking the most common strings\n",
    "lower.vocab().most_common(20)"
   ]
  },
  {
   "cell_type": "markdown",
   "id": "b7cdc2d3",
   "metadata": {},
   "source": [
    "## removing punctuation and numbers"
   ]
  },
  {
   "cell_type": "code",
   "execution_count": 17,
   "id": "6a6838e8",
   "metadata": {},
   "outputs": [
    {
     "data": {
      "text/plain": [
       "False"
      ]
     },
     "execution_count": 17,
     "metadata": {},
     "output_type": "execute_result"
    }
   ],
   "source": [
    "# isalpha() checks if the object has only alphabetic characters\n",
    "\n",
    "'hello!'.isalpha()"
   ]
  },
  {
   "cell_type": "code",
   "execution_count": 18,
   "id": "6c7a1259",
   "metadata": {},
   "outputs": [
    {
     "data": {
      "text/plain": [
       "False"
      ]
     },
     "execution_count": 18,
     "metadata": {},
     "output_type": "execute_result"
    }
   ],
   "source": [
    "'7'.isalpha()"
   ]
  },
  {
   "cell_type": "code",
   "execution_count": 19,
   "id": "1bab0622",
   "metadata": {},
   "outputs": [
    {
     "data": {
      "text/plain": [
       "True"
      ]
     },
     "execution_count": 19,
     "metadata": {},
     "output_type": "execute_result"
    }
   ],
   "source": [
    "'hello'.isalpha()"
   ]
  },
  {
   "cell_type": "code",
   "execution_count": 20,
   "id": "4b7b1dd9",
   "metadata": {},
   "outputs": [],
   "source": [
    "no_punct = []\n",
    "\n",
    "for token in lower:\n",
    "    if token.isalpha():\n",
    "        no_punct.append(token)"
   ]
  },
  {
   "cell_type": "code",
   "execution_count": 21,
   "id": "a192519f",
   "metadata": {},
   "outputs": [
    {
     "data": {
      "text/plain": [
       "['scene',\n",
       " 'wind',\n",
       " 'clop',\n",
       " 'clop',\n",
       " 'clop',\n",
       " 'king',\n",
       " 'arthur',\n",
       " 'whoa',\n",
       " 'there',\n",
       " 'clop']"
      ]
     },
     "execution_count": 21,
     "metadata": {},
     "output_type": "execute_result"
    }
   ],
   "source": [
    "no_punct[:10]"
   ]
  },
  {
   "cell_type": "code",
   "execution_count": 40,
   "id": "65a3a729",
   "metadata": {},
   "outputs": [],
   "source": [
    "no_punct = nltk.Text(no_punct)"
   ]
  },
  {
   "cell_type": "code",
   "execution_count": 41,
   "id": "7c546436",
   "metadata": {},
   "outputs": [
    {
     "data": {
      "text/plain": [
       "[('the', 334),\n",
       " ('you', 265),\n",
       " ('arthur', 261),\n",
       " ('i', 260),\n",
       " ('a', 238),\n",
       " ('and', 185),\n",
       " ('of', 178),\n",
       " ('to', 151),\n",
       " ('s', 145),\n",
       " ('it', 142),\n",
       " ('no', 131),\n",
       " ('we', 122),\n",
       " ('oh', 112),\n",
       " ('is', 111),\n",
       " ('that', 106),\n",
       " ('launcelot', 101),\n",
       " ('in', 97),\n",
       " ('what', 92),\n",
       " ('he', 89),\n",
       " ('knight', 84)]"
      ]
     },
     "execution_count": 41,
     "metadata": {},
     "output_type": "execute_result"
    }
   ],
   "source": [
    "no_punct.vocab().most_common(20)"
   ]
  },
  {
   "cell_type": "code",
   "execution_count": 23,
   "id": "fc1180f7",
   "metadata": {},
   "outputs": [],
   "source": [
    "stops = stopwords.words('english')"
   ]
  },
  {
   "cell_type": "code",
   "execution_count": 46,
   "id": "0892746b",
   "metadata": {},
   "outputs": [
    {
     "data": {
      "text/plain": [
       "['i',\n",
       " 'me',\n",
       " 'my',\n",
       " 'myself',\n",
       " 'we',\n",
       " 'our',\n",
       " 'ours',\n",
       " 'ourselves',\n",
       " 'you',\n",
       " \"you're\",\n",
       " \"you've\",\n",
       " \"you'll\",\n",
       " \"you'd\",\n",
       " 'your',\n",
       " 'yours',\n",
       " 'yourself',\n",
       " 'yourselves',\n",
       " 'he',\n",
       " 'him',\n",
       " 'his',\n",
       " 'himself',\n",
       " 'she',\n",
       " \"she's\",\n",
       " 'her',\n",
       " 'hers',\n",
       " 'herself',\n",
       " 'it',\n",
       " \"it's\",\n",
       " 'its',\n",
       " 'itself',\n",
       " 'they',\n",
       " 'them',\n",
       " 'their',\n",
       " 'theirs',\n",
       " 'themselves',\n",
       " 'what',\n",
       " 'which',\n",
       " 'who',\n",
       " 'whom',\n",
       " 'this',\n",
       " 'that',\n",
       " \"that'll\",\n",
       " 'these',\n",
       " 'those',\n",
       " 'am',\n",
       " 'is',\n",
       " 'are',\n",
       " 'was',\n",
       " 'were',\n",
       " 'be',\n",
       " 'been',\n",
       " 'being',\n",
       " 'have',\n",
       " 'has',\n",
       " 'had',\n",
       " 'having',\n",
       " 'do',\n",
       " 'does',\n",
       " 'did',\n",
       " 'doing',\n",
       " 'a',\n",
       " 'an',\n",
       " 'the',\n",
       " 'and',\n",
       " 'but',\n",
       " 'if',\n",
       " 'or',\n",
       " 'because',\n",
       " 'as',\n",
       " 'until',\n",
       " 'while',\n",
       " 'of',\n",
       " 'at',\n",
       " 'by',\n",
       " 'for',\n",
       " 'with',\n",
       " 'about',\n",
       " 'against',\n",
       " 'between',\n",
       " 'into',\n",
       " 'through',\n",
       " 'during',\n",
       " 'before',\n",
       " 'after',\n",
       " 'above',\n",
       " 'below',\n",
       " 'to',\n",
       " 'from',\n",
       " 'up',\n",
       " 'down',\n",
       " 'in',\n",
       " 'out',\n",
       " 'on',\n",
       " 'off',\n",
       " 'over',\n",
       " 'under',\n",
       " 'again',\n",
       " 'further',\n",
       " 'then',\n",
       " 'once',\n",
       " 'here',\n",
       " 'there',\n",
       " 'when',\n",
       " 'where',\n",
       " 'why',\n",
       " 'how',\n",
       " 'all',\n",
       " 'any',\n",
       " 'both',\n",
       " 'each',\n",
       " 'few',\n",
       " 'more',\n",
       " 'most',\n",
       " 'other',\n",
       " 'some',\n",
       " 'such',\n",
       " 'no',\n",
       " 'nor',\n",
       " 'not',\n",
       " 'only',\n",
       " 'own',\n",
       " 'same',\n",
       " 'so',\n",
       " 'than',\n",
       " 'too',\n",
       " 'very',\n",
       " 's',\n",
       " 't',\n",
       " 'can',\n",
       " 'will',\n",
       " 'just',\n",
       " 'don',\n",
       " \"don't\",\n",
       " 'should',\n",
       " \"should've\",\n",
       " 'now',\n",
       " 'd',\n",
       " 'll',\n",
       " 'm',\n",
       " 'o',\n",
       " 're',\n",
       " 've',\n",
       " 'y',\n",
       " 'ain',\n",
       " 'aren',\n",
       " \"aren't\",\n",
       " 'couldn',\n",
       " \"couldn't\",\n",
       " 'didn',\n",
       " \"didn't\",\n",
       " 'doesn',\n",
       " \"doesn't\",\n",
       " 'hadn',\n",
       " \"hadn't\",\n",
       " 'hasn',\n",
       " \"hasn't\",\n",
       " 'haven',\n",
       " \"haven't\",\n",
       " 'isn',\n",
       " \"isn't\",\n",
       " 'ma',\n",
       " 'mightn',\n",
       " \"mightn't\",\n",
       " 'mustn',\n",
       " \"mustn't\",\n",
       " 'needn',\n",
       " \"needn't\",\n",
       " 'shan',\n",
       " \"shan't\",\n",
       " 'shouldn',\n",
       " \"shouldn't\",\n",
       " 'wasn',\n",
       " \"wasn't\",\n",
       " 'weren',\n",
       " \"weren't\",\n",
       " 'won',\n",
       " \"won't\",\n",
       " 'wouldn',\n",
       " \"wouldn't\"]"
      ]
     },
     "execution_count": 46,
     "metadata": {},
     "output_type": "execute_result"
    }
   ],
   "source": [
    "stops"
   ]
  },
  {
   "cell_type": "code",
   "execution_count": 24,
   "id": "3de788dc",
   "metadata": {},
   "outputs": [],
   "source": [
    "no_stops = []\n",
    "\n",
    "for i in no_punct:\n",
    "    if i not in stops:\n",
    "        no_stops.append(i)"
   ]
  },
  {
   "cell_type": "code",
   "execution_count": 27,
   "id": "b193a1dc",
   "metadata": {},
   "outputs": [],
   "source": [
    "no_stops = nltk.Text(no_stops)"
   ]
  },
  {
   "cell_type": "code",
   "execution_count": 28,
   "id": "76a32721",
   "metadata": {},
   "outputs": [
    {
     "data": {
      "text/plain": [
       "[('arthur', 261),\n",
       " ('oh', 112),\n",
       " ('launcelot', 101),\n",
       " ('knight', 84),\n",
       " ('galahad', 80),\n",
       " ('father', 75),\n",
       " ('sir', 72),\n",
       " ('ni', 69),\n",
       " ('bedevere', 67),\n",
       " ('knights', 65),\n",
       " ('well', 62),\n",
       " ('head', 59),\n",
       " ('ha', 59),\n",
       " ('robin', 58),\n",
       " ('right', 55),\n",
       " ('guard', 55),\n",
       " ('yes', 53),\n",
       " ('villager', 47),\n",
       " ('boom', 45),\n",
       " ('come', 44)]"
      ]
     },
     "execution_count": 28,
     "metadata": {},
     "output_type": "execute_result"
    }
   ],
   "source": [
    "no_stops.vocab().most_common(20)"
   ]
  },
  {
   "cell_type": "code",
   "execution_count": 31,
   "id": "5c96b8e6",
   "metadata": {},
   "outputs": [
    {
     "name": "stderr",
     "output_type": "stream",
     "text": [
      "[nltk_data] Downloading package wordnet to\n",
      "[nltk_data]     /Users/filipacalado/nltk_data...\n",
      "[nltk_data]   Package wordnet is already up-to-date!\n",
      "[nltk_data] Downloading package omw-1.4 to\n",
      "[nltk_data]     /Users/filipacalado/nltk_data...\n",
      "[nltk_data]   Package omw-1.4 is already up-to-date!\n"
     ]
    },
    {
     "data": {
      "text/plain": [
       "True"
      ]
     },
     "execution_count": 31,
     "metadata": {},
     "output_type": "execute_result"
    }
   ],
   "source": [
    "# on jupyter:\n",
    "from nltk.stem import WordNetLemmatizer\n",
    "\n",
    "# on colab:\n",
    "from nltk.stem import WordNetLemmatizer\n",
    "nltk.download('wordnet')\n",
    "nltk.download('omw-1.4')"
   ]
  },
  {
   "cell_type": "code",
   "execution_count": 32,
   "id": "0ff931d0",
   "metadata": {},
   "outputs": [],
   "source": [
    "# instantiating the lemmatizer\n",
    "\n",
    "lemmatizer = WordNetLemmatizer()"
   ]
  },
  {
   "cell_type": "code",
   "execution_count": 33,
   "id": "d886c5c4",
   "metadata": {},
   "outputs": [
    {
     "data": {
      "text/plain": [
       "'child'"
      ]
     },
     "execution_count": 33,
     "metadata": {},
     "output_type": "execute_result"
    }
   ],
   "source": [
    "lemmatizer.lemmatize(\"children\")"
   ]
  },
  {
   "cell_type": "code",
   "execution_count": 34,
   "id": "80777768",
   "metadata": {},
   "outputs": [
    {
     "data": {
      "text/plain": [
       "'goose'"
      ]
     },
     "execution_count": 34,
     "metadata": {},
     "output_type": "execute_result"
    }
   ],
   "source": [
    "lemmatizer.lemmatize('geese')"
   ]
  },
  {
   "cell_type": "code",
   "execution_count": 35,
   "id": "c32a410b",
   "metadata": {},
   "outputs": [
    {
     "data": {
      "text/plain": [
       "'teeth'"
      ]
     },
     "execution_count": 35,
     "metadata": {},
     "output_type": "execute_result"
    }
   ],
   "source": [
    "lemmatizer.lemmatize('teeth')"
   ]
  },
  {
   "cell_type": "code",
   "execution_count": 36,
   "id": "55a70ca5",
   "metadata": {},
   "outputs": [
    {
     "data": {
      "text/plain": [
       "'family'"
      ]
     },
     "execution_count": 36,
     "metadata": {},
     "output_type": "execute_result"
    }
   ],
   "source": [
    "lemmatizer.lemmatize('families')"
   ]
  },
  {
   "cell_type": "code",
   "execution_count": 37,
   "id": "e4d3d325",
   "metadata": {},
   "outputs": [
    {
     "data": {
      "text/plain": [
       "'cheese'"
      ]
     },
     "execution_count": 37,
     "metadata": {},
     "output_type": "execute_result"
    }
   ],
   "source": [
    "lemmatizer.lemmatize('cheese')"
   ]
  },
  {
   "cell_type": "code",
   "execution_count": null,
   "id": "7f8f17ae",
   "metadata": {},
   "outputs": [],
   "source": []
  },
  {
   "cell_type": "code",
   "execution_count": 38,
   "id": "6f3abc30",
   "metadata": {},
   "outputs": [],
   "source": [
    "clean = []\n",
    "\n",
    "for token in text6:\n",
    "    if token.isalpha():\n",
    "        if token not in stops:\n",
    "            lemmatizer = WordNetLemmatizer()\n",
    "            lemma = lemmatizer.lemmatize(token)\n",
    "            clean.append(lemma.lower())"
   ]
  },
  {
   "cell_type": "code",
   "execution_count": 39,
   "id": "9384016a",
   "metadata": {},
   "outputs": [
    {
     "data": {
      "text/plain": [
       "['scene',\n",
       " 'wind',\n",
       " 'clop',\n",
       " 'clop',\n",
       " 'clop',\n",
       " 'king',\n",
       " 'arthur',\n",
       " 'whoa',\n",
       " 'clop',\n",
       " 'clop']"
      ]
     },
     "execution_count": 39,
     "metadata": {},
     "output_type": "execute_result"
    }
   ],
   "source": [
    "clean[:10]"
   ]
  },
  {
   "cell_type": "code",
   "execution_count": 41,
   "id": "4b736c89",
   "metadata": {},
   "outputs": [],
   "source": [
    "# for grabbing text from the web - project gutenberg\n",
    "\n",
    "from urllib.request import urlopen"
   ]
  },
  {
   "cell_type": "code",
   "execution_count": 40,
   "id": "eba0b93a",
   "metadata": {},
   "outputs": [],
   "source": [
    "middlemarch = 'https://www.gutenberg.org/cache/epub/145/pg145.txt'"
   ]
  },
  {
   "cell_type": "code",
   "execution_count": 42,
   "id": "265ffff2",
   "metadata": {},
   "outputs": [],
   "source": [
    "def clean(url):\n",
    "    stops = stopwords.words('english')\n",
    "    wordnet_lemmatizer = WordNetLemmatizer()\n",
    "    \n",
    "    open_url = urlopen(url)\n",
    "    read_text = open_url.read()\n",
    "    decoded_text = read_text.decode()\n",
    "    tokens = nltk.word_tokenize(decoded_text)\n",
    "    \n",
    "    text = [] \n",
    "    for word in tokens:\n",
    "        if word.isalpha(): \n",
    "            if word not in stops:\n",
    "                lemma = wordnet_lemmatizer.lemmatize(word)\n",
    "                text.append(word.lower())     \n",
    "    \n",
    "    return text\n"
   ]
  },
  {
   "cell_type": "code",
   "execution_count": 44,
   "id": "0ed21ba3",
   "metadata": {},
   "outputs": [],
   "source": [
    "# call the clean function on \"middlemarch\"\n",
    "# save the results to a variable\n",
    "\n",
    "middlemarch = clean(middlemarch)"
   ]
  },
  {
   "cell_type": "code",
   "execution_count": 46,
   "id": "d49fe456",
   "metadata": {},
   "outputs": [
    {
     "data": {
      "text/plain": [
       "['project',\n",
       " 'gutenberg',\n",
       " 'ebook',\n",
       " 'middlemarch',\n",
       " 'george',\n",
       " 'eliot',\n",
       " 'this',\n",
       " 'ebook',\n",
       " 'use',\n",
       " 'anyone',\n",
       " 'anywhere',\n",
       " 'united',\n",
       " 'states',\n",
       " 'parts',\n",
       " 'world',\n",
       " 'cost',\n",
       " 'almost',\n",
       " 'restrictions',\n",
       " 'whatsoever',\n",
       " 'you']"
      ]
     },
     "execution_count": 46,
     "metadata": {},
     "output_type": "execute_result"
    }
   ],
   "source": [
    "middlemarch[:20]"
   ]
  },
  {
   "cell_type": "code",
   "execution_count": 47,
   "id": "370ca679",
   "metadata": {},
   "outputs": [
    {
     "data": {
      "text/plain": [
       "list"
      ]
     },
     "execution_count": 47,
     "metadata": {},
     "output_type": "execute_result"
    }
   ],
   "source": [
    "type(middlemarch)"
   ]
  },
  {
   "cell_type": "code",
   "execution_count": 48,
   "id": "bcd98de1",
   "metadata": {},
   "outputs": [],
   "source": [
    "# create an NLTK object\n",
    "\n",
    "march = nltk.Text(middlemarch)"
   ]
  },
  {
   "cell_type": "code",
   "execution_count": 49,
   "id": "0a021c94",
   "metadata": {},
   "outputs": [
    {
     "data": {
      "text/plain": [
       "nltk.text.Text"
      ]
     },
     "execution_count": 49,
     "metadata": {},
     "output_type": "execute_result"
    }
   ],
   "source": [
    "type(march)"
   ]
  },
  {
   "cell_type": "code",
   "execution_count": 50,
   "id": "47a6d49e",
   "metadata": {},
   "outputs": [
    {
     "data": {
      "text/plain": [
       "[('i', 4591),\n",
       " ('said', 2224),\n",
       " ('would', 1523),\n",
       " ('lydgate', 992),\n",
       " ('but', 969),\n",
       " ('he', 947),\n",
       " ('dorothea', 937),\n",
       " ('could', 838),\n",
       " ('one', 828),\n",
       " ('it', 698),\n",
       " ('the', 672),\n",
       " ('man', 659),\n",
       " ('like', 653),\n",
       " ('might', 647),\n",
       " ('casaubon', 632),\n",
       " ('know', 623),\n",
       " ('little', 620),\n",
       " ('and', 581),\n",
       " ('must', 574),\n",
       " ('bulstrode', 559)]"
      ]
     },
     "execution_count": 50,
     "metadata": {},
     "output_type": "execute_result"
    }
   ],
   "source": [
    "# similar(), concordance(), dispersion_plot([]), .vocab().most_common(20), \n",
    "# collocations(), and common_contexts([])\n",
    "\n",
    "march.vocab().most_common(20)"
   ]
  },
  {
   "cell_type": "code",
   "execution_count": 54,
   "id": "f6633526",
   "metadata": {},
   "outputs": [
    {
     "data": {
      "image/png": "[encoded data removed]",
      "text/plain": [
       "<Figure size 432x288 with 1 Axes>"
      ]
     },
     "metadata": {
      "needs_background": "light"
     },
     "output_type": "display_data"
    }
   ],
   "source": [
    "march.dispersion_plot(['dorothea', 'lydgate', 'casaubon', 'love', 'marry'])"
   ]
  },
  {
   "cell_type": "code",
   "execution_count": 53,
   "id": "ad1985d9",
   "metadata": {},
   "outputs": [
    {
     "name": "stdout",
     "output_type": "stream",
     "text": [
      "lydgate rosamond will mary bulstrode fred brooke celia caleb i\n",
      "casaubon garth cadwallader farebrother waule rector plymdale vicar\n",
      "wife but\n"
     ]
    }
   ],
   "source": [
    "march.similar('dorothea')"
   ]
  },
  {
   "cell_type": "code",
   "execution_count": 55,
   "id": "98e5c717",
   "metadata": {},
   "outputs": [
    {
     "name": "stdout",
     "output_type": "stream",
     "text": [
      "Displaying 25 of 172 matches:\n",
      "ter xxxi chapter xxxii book iv three love problems chapter xxxiii chapter xxxi\n",
      "dsome prospects nothing could hinder love extremes insistence regulating life \n",
      " motive seeing brooke concluded must love celia sir james chettam example cons\n",
      "ght would die marriage in short felt love right place ready endure great deal \n",
      "newly awakened ordinary images young love illusions chloe strephon sufficientl\n",
      "expects every one see sir james much love the revulsion strong painful dorothe\n",
      "ne letter look critically profession love her whole soul possessed fact fuller\n",
      "sort thing well lies little family i love knowledge going little took far thou\n",
      " stand i great shock i hope far gone love pretended it use protesting cadwalla\n",
      "uite conquered you easy enough woman love but question beauty i this sir james\n",
      "ke least suppose lost balance fallen love said particular woman she grace perf\n",
      "all marry middlemarch young so seems love good refused pick better i sure girl\n",
      "g flute and play when next one makes love miss rosamond i tell obliging why ex\n",
      " of course i mean gentleman may fall love seeing almost every a certain change\n",
      " change does always make people fall love answered carelessly seems quite ofte\n",
      "ook mutual impression called falling love rosamond contemplated beforehand eve\n",
      "h life she judged symptoms awakening love held still natural lydgate fallen lo\n",
      "ve held still natural lydgate fallen love first sight these things happened of\n",
      "though older mary rather used fallen love part remained indifferent fastidious\n",
      "est girl i i never thought girl fall love how know men would fall love girls n\n",
      "rl fall love how know men would fall love girls never at least fred let advise\n",
      " never at least fred let advise fall love says would marry asked she might wai\n",
      "t without asking poor fellow i think love i aware and one odious things girl l\n",
      "life must always supposition falling love coming man kind grateful i thought i\n",
      "vanity fancying everybody comes near love mary mean betray feeling spite ended\n"
     ]
    }
   ],
   "source": [
    "march.concordance('love')"
   ]
  },
  {
   "cell_type": "code",
   "execution_count": 58,
   "id": "9e7445f1",
   "metadata": {},
   "outputs": [
    {
     "name": "stdout",
     "output_type": "stream",
     "text": [
      "see mean but know thought would never say like think said want give\n",
      "brooke man least found expected going tell\n"
     ]
    }
   ],
   "source": [
    "march.similar('love')"
   ]
  },
  {
   "cell_type": "code",
   "execution_count": 59,
   "id": "0b638a5c",
   "metadata": {},
   "outputs": [
    {
     "name": "stdout",
     "output_type": "stream",
     "text": [
      "never_one i_i three_problems women_men my_doth sort_i hinder_extremes\n",
      "must_celia felt_right young_illusions much_the profession_her\n",
      "i_knowledge gone_pretended woman_but fallen_said seems_good makes_miss\n",
      "fall_seeing fall_answered\n"
     ]
    }
   ],
   "source": [
    "march.common_contexts(['love'])"
   ]
  },
  {
   "cell_type": "code",
   "execution_count": 60,
   "id": "08d1b119",
   "metadata": {},
   "outputs": [
    {
     "name": "stdout",
     "output_type": "stream",
     "text": [
      "sir james; stone court; said dorothea; miss brooke; great deal;\n",
      "project gutenberg; said lydgate; said rosamond; good deal; james\n",
      "chettam; green dragon; mary garth; fred vincy; said brooke; first\n",
      "time; old featherstone; said mary; said celia; literary archive;\n",
      "united states\n"
     ]
    }
   ],
   "source": [
    "march.collocations()"
   ]
  },
  {
   "cell_type": "code",
   "execution_count": 62,
   "id": "6badb6a1",
   "metadata": {},
   "outputs": [
    {
     "name": "stdout",
     "output_type": "stream",
     "text": [
      "Displaying 25 of 27 matches:\n",
      "march trade plymdale house uses blue green dyes gets brassing manufactory rot s\n",
      "n would played much less money there green dragon anxious mothers wives regarde\n",
      "iddlemarch the vicar though frequent green dragon reports sometimes daytime mon\n",
      " pounds worth planted vain seductive green least dispersed fred found close upo\n",
      "ore moderation whole flourished like green but range conversation limited like \n",
      "middlemarch distinguished figure bar green dragon he knew anecdotes heroes turf\n",
      "gled fleeting suggestions sunday bar green man informed mary garth go reach bro\n",
      "blowing blossoms surrounding gardens green mounds lowick churchyard swiftly mov\n",
      "urred live would called ordinary way green glasses hock excellent waiting table\n",
      " bringing beauties moss lichen fresh green growths piercing brown everything se\n",
      "nced hawley associates sat pinkerton green dragon brooke conscious weakened bla\n",
      "te ordered man two horses follow put green dragon begged go gray warranted gent\n",
      "owed extant opportunity gambling the green dragon constant resort certain set l\n",
      "eal money lost way consequent repute green dragon place dissipation naturally h\n",
      "s arrival middlemarch taken turn cue green dragon afterwards leisure game incli\n",
      "red seeing anything agreeable turned green dragon partly play billiards partly \n",
      "ng said i thought lydgate never went green dragon so i said fred but said went \n",
      "e spoke last words he standing patch green road diverged towards botolph put ha\n",
      "ision figure made rubbing elbows men green dragon behaving a philosopher fallen\n",
      "other thoughts rather gloomy playing green dragon oftener might trifle another \n",
      "g leisure large archway leading yard green dragon he fond solitary contemplatio\n",
      "ed spot expressly see anything going green dragon bambridge finding worth say m\n",
      "y he man compromise dignity lounging green dragon happening pass along high str\n",
      "ghost earlier life rode past archway green dragon trusting providence delivered\n",
      "ea oftener usual public conviviality green dragon dollop gathered zest could qu\n"
     ]
    }
   ],
   "source": [
    "march.concordance('green')"
   ]
  },
  {
   "cell_type": "code",
   "execution_count": null,
   "id": "a866c082",
   "metadata": {},
   "outputs": [],
   "source": []
  }
 ],
 "metadata": {
  "kernelspec": {
   "display_name": "Python 3",
   "language": "python",
   "name": "python3"
  },
  "language_info": {
   "codemirror_mode": {
    "name": "ipython",
    "version": 3
   },
   "file_extension": ".py",
   "mimetype": "text/x-python",
   "name": "python",
   "nbconvert_exporter": "python",
   "pygments_lexer": "ipython3",
   "version": "3.7.7"
  }
 },
 "nbformat": 4,
 "nbformat_minor": 5
}
