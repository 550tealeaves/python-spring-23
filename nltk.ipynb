{
 "cells": [
  {
   "cell_type": "code",
   "execution_count": null,
   "id": "99ad09da",
   "metadata": {},
   "outputs": [],
   "source": [
    "import nltk"
   ]
  },
  {
   "cell_type": "code",
   "execution_count": null,
   "id": "a22de81d",
   "metadata": {},
   "outputs": [],
   "source": [
    "from nltk.book import *"
   ]
  },
  {
   "cell_type": "code",
   "execution_count": null,
   "id": "a1823437",
   "metadata": {},
   "outputs": [],
   "source": [
    "type(text2)"
   ]
  },
  {
   "cell_type": "code",
   "execution_count": null,
   "id": "8165dee8",
   "metadata": {},
   "outputs": [],
   "source": [
    "text2[:10]"
   ]
  },
  {
   "cell_type": "code",
   "execution_count": null,
   "id": "46647063",
   "metadata": {},
   "outputs": [],
   "source": [
    "text = text2"
   ]
  },
  {
   "cell_type": "code",
   "execution_count": null,
   "id": "b3f63bd2",
   "metadata": {},
   "outputs": [],
   "source": [
    "# nltk comes with \"methods\" like similar()\n",
    "\n",
    "text.similar('charming')"
   ]
  },
  {
   "cell_type": "code",
   "execution_count": null,
   "id": "547fa16c",
   "metadata": {},
   "outputs": [],
   "source": [
    "# similar checks which words in the text appear frequently near \n",
    "# each other\n",
    "\n",
    "text.similar('woman')"
   ]
  },
  {
   "cell_type": "code",
   "execution_count": null,
   "id": "7ef556f6",
   "metadata": {},
   "outputs": [],
   "source": [
    "text.similar('man')"
   ]
  },
  {
   "cell_type": "code",
   "execution_count": null,
   "id": "172d686a",
   "metadata": {},
   "outputs": [],
   "source": [
    "# concordance gets a \"context window\" surrounding our target word\n",
    "\n",
    "text.concordance('charming')"
   ]
  },
  {
   "cell_type": "code",
   "execution_count": null,
   "id": "9bdd3a40",
   "metadata": {},
   "outputs": [],
   "source": [
    "# dispersion plot - visualizes where words appear in a text\n",
    "\n",
    "text.dispersion_plot(['charming', 'woman', 'man', 'msn'])"
   ]
  },
  {
   "cell_type": "code",
   "execution_count": null,
   "id": "c902a8f5",
   "metadata": {},
   "outputs": [],
   "source": [
    "type(text)"
   ]
  },
  {
   "cell_type": "code",
   "execution_count": null,
   "id": "21afa73b",
   "metadata": {},
   "outputs": [],
   "source": [
    "text.collocation_list()[:10]"
   ]
  },
  {
   "cell_type": "code",
   "execution_count": null,
   "id": "be280fa1",
   "metadata": {},
   "outputs": [],
   "source": [
    "text.collocations()"
   ]
  },
  {
   "cell_type": "code",
   "execution_count": null,
   "id": "b6d6cbbd",
   "metadata": {},
   "outputs": [],
   "source": []
  }
 ],
 "metadata": {
  "kernelspec": {
   "display_name": "Python 3",
   "language": "python",
   "name": "python3"
  },
  "language_info": {
   "codemirror_mode": {
    "name": "ipython",
    "version": 3
   },
   "file_extension": ".py",
   "mimetype": "text/x-python",
   "name": "python",
   "nbconvert_exporter": "python",
   "pygments_lexer": "ipython3",
   "version": "3.7.7"
  }
 },
 "nbformat": 4,
 "nbformat_minor": 5
}
