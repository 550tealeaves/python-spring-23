{
 "cells": [
  {
   "cell_type": "code",
   "execution_count": 1,
   "id": "9c7d5ec2",
   "metadata": {},
   "outputs": [],
   "source": [
    "import requests # allows us to make https requests\n",
    "from bs4 import BeautifulSoup\n",
    "import lxml"
   ]
  },
  {
   "cell_type": "code",
   "execution_count": 2,
   "id": "4adec551",
   "metadata": {},
   "outputs": [],
   "source": [
    "webpage = requests.get('https://www.wsj.com/')\n",
    "source = webpage.content\n",
    "soup = BeautifulSoup(source, 'lxml')"
   ]
  },
  {
   "cell_type": "code",
   "execution_count": null,
   "id": "8e2b5160",
   "metadata": {},
   "outputs": [],
   "source": [
    "# finds all the 'a' tags -- the links\n",
    "\n",
    "soup.find_all('a')"
   ]
  },
  {
   "cell_type": "code",
   "execution_count": null,
   "id": "04227f9d",
   "metadata": {},
   "outputs": [],
   "source": [
    "# finds all level 3 headings\n",
    "\n",
    "soup.find_all('h3')"
   ]
  },
  {
   "cell_type": "code",
   "execution_count": null,
   "id": "a309043f",
   "metadata": {},
   "outputs": [],
   "source": [
    "soup.find_all('h2')"
   ]
  },
  {
   "cell_type": "code",
   "execution_count": 5,
   "id": "a164afdc",
   "metadata": {},
   "outputs": [
    {
     "data": {
      "text/plain": [
       "[<h3 class=\"WSJTheme--error-description--16rzUMic WSJTheme--headline--unZqjb45 reset\"><span>We can’t find the page you're looking for. If you typed the URL into your browser, check that you entered it correctly. If you reached this page via our site or search, please let us know by emailing <a class=\"WSJTheme--returnLink--16OFoMDX\" href=\"mailto:support@wsj.com\">support@wsj.com</a></span></h3>,\n",
       " <h3 class=\"WSJTheme--podcast-show-name--26TnrKrc\">The Wall Street Journal Google Your News Update</h3>,\n",
       " <h3 class=\"WSJTheme--episode-name--oMSv_LfG\">JPMorgan Builds on Rich Clientele in First Republic Deal</h3>,\n",
       " <h3 class=\"WSJTheme--podcast-show-name--26TnrKrc\">Opinion: Potomac Watch</h3>,\n",
       " <h3 class=\"WSJTheme--episode-name--oMSv_LfG\">Justice Samuel Alito Opens Up as Senate Democrats Use Ethics as a Political Weapon</h3>,\n",
       " <h3 class=\"WSJTheme--podcast-show-name--26TnrKrc\">Minute Briefing</h3>,\n",
       " <h3 class=\"WSJTheme--episode-name--oMSv_LfG\">U.S. Stocks Finish Lower</h3>]"
      ]
     },
     "execution_count": 5,
     "metadata": {},
     "output_type": "execute_result"
    }
   ],
   "source": [
    "soup.find_all('h3')"
   ]
  },
  {
   "cell_type": "code",
   "execution_count": null,
   "id": "7a2766d6",
   "metadata": {},
   "outputs": [],
   "source": [
    "soup.title"
   ]
  },
  {
   "cell_type": "code",
   "execution_count": null,
   "id": "4e942896",
   "metadata": {},
   "outputs": [],
   "source": [
    "soup.find('title')"
   ]
  },
  {
   "cell_type": "code",
   "execution_count": null,
   "id": "bb57f5cd",
   "metadata": {},
   "outputs": [],
   "source": [
    "soup.title.text"
   ]
  },
  {
   "cell_type": "code",
   "execution_count": null,
   "id": "e75ab340",
   "metadata": {},
   "outputs": [],
   "source": [
    "soup.h3.text"
   ]
  },
  {
   "cell_type": "code",
   "execution_count": 3,
   "id": "dd7d7b00",
   "metadata": {},
   "outputs": [],
   "source": [
    "headers_3 = soup.find_all('h3')\n",
    "# for classes soup.find_all(class_ = \"\")\n",
    "\n",
    "header_text = []\n",
    "for item in headers_3:\n",
    "    header_text.append(item.text)"
   ]
  },
  {
   "cell_type": "code",
   "execution_count": 4,
   "id": "4b3bf788",
   "metadata": {},
   "outputs": [
    {
     "data": {
      "text/plain": [
       "[\"We can’t find the page you're looking for. If you typed the URL into your browser, check that you entered it correctly. If you reached this page via our site or search, please let us know by emailing support@wsj.com\",\n",
       " 'The Wall Street Journal Google Your News Update',\n",
       " 'JPMorgan Builds on Rich Clientele in First Republic Deal',\n",
       " 'Opinion: Potomac Watch',\n",
       " 'Justice Samuel Alito Opens Up as Senate Democrats Use Ethics as a Political Weapon',\n",
       " 'Minute Briefing',\n",
       " 'U.S. Stocks Finish Lower']"
      ]
     },
     "execution_count": 4,
     "metadata": {},
     "output_type": "execute_result"
    }
   ],
   "source": [
    "header_text"
   ]
  },
  {
   "cell_type": "code",
   "execution_count": null,
   "id": "21aad021",
   "metadata": {},
   "outputs": [],
   "source": []
  }
 ],
 "metadata": {
  "kernelspec": {
   "display_name": "Python 3",
   "language": "python",
   "name": "python3"
  },
  "language_info": {
   "codemirror_mode": {
    "name": "ipython",
    "version": 3
   },
   "file_extension": ".py",
   "mimetype": "text/x-python",
   "name": "python",
   "nbconvert_exporter": "python",
   "pygments_lexer": "ipython3",
   "version": "3.7.7"
  }
 },
 "nbformat": 4,
 "nbformat_minor": 5
}
