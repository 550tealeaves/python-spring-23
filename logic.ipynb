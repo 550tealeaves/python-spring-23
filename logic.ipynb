{
 "cells": [
  {
   "cell_type": "code",
   "execution_count": 1,
   "id": "72c2e76d",
   "metadata": {},
   "outputs": [
    {
     "data": {
      "text/plain": [
       "bool"
      ]
     },
     "execution_count": 1,
     "metadata": {},
     "output_type": "execute_result"
    }
   ],
   "source": [
    "# remember booleans? The data type that is either \"True\" or \"False\"\n",
    "\n",
    "type(True)"
   ]
  },
  {
   "cell_type": "code",
   "execution_count": 2,
   "id": "77a0e76f",
   "metadata": {},
   "outputs": [
    {
     "data": {
      "text/plain": [
       "bool"
      ]
     },
     "execution_count": 2,
     "metadata": {},
     "output_type": "execute_result"
    }
   ],
   "source": [
    "# This concept of \"True\" or \"False\" is the main building block of\n",
    "# python programs that make decisions based on certain conditions\n",
    "\n",
    "type(False)"
   ]
  },
  {
   "cell_type": "code",
   "execution_count": 3,
   "id": "4a57c019",
   "metadata": {},
   "outputs": [
    {
     "data": {
      "text/plain": [
       "True"
      ]
     },
     "execution_count": 3,
     "metadata": {},
     "output_type": "execute_result"
    }
   ],
   "source": [
    "# Operators in conditional statements:\n",
    "# the double equals sign is an operator to check for\n",
    "# equivalence of values\n",
    "\n",
    "1 == 1"
   ]
  },
  {
   "cell_type": "code",
   "execution_count": 6,
   "id": "e7a8af83",
   "metadata": {},
   "outputs": [],
   "source": [
    "# the single equals makes an assignment of value, like\n",
    "# when creating a variable\n",
    "\n",
    "my_number = 1"
   ]
  },
  {
   "cell_type": "code",
   "execution_count": 7,
   "id": "9b9dfe15",
   "metadata": {},
   "outputs": [
    {
     "data": {
      "text/plain": [
       "True"
      ]
     },
     "execution_count": 7,
     "metadata": {},
     "output_type": "execute_result"
    }
   ],
   "source": [
    "my_number == 1"
   ]
  },
  {
   "cell_type": "code",
   "execution_count": 8,
   "id": "72d20b18",
   "metadata": {},
   "outputs": [
    {
     "data": {
      "text/plain": [
       "False"
      ]
     },
     "execution_count": 8,
     "metadata": {},
     "output_type": "execute_result"
    }
   ],
   "source": [
    "my_number == 2"
   ]
  },
  {
   "cell_type": "code",
   "execution_count": 9,
   "id": "03ef8765",
   "metadata": {},
   "outputs": [
    {
     "data": {
      "text/plain": [
       "True"
      ]
     },
     "execution_count": 9,
     "metadata": {},
     "output_type": "execute_result"
    }
   ],
   "source": [
    "# the greater than (>) and less than signs (<)\n",
    "\n",
    "10 > my_number"
   ]
  },
  {
   "cell_type": "code",
   "execution_count": 10,
   "id": "6205f59b",
   "metadata": {},
   "outputs": [
    {
     "data": {
      "text/plain": [
       "False"
      ]
     },
     "execution_count": 10,
     "metadata": {},
     "output_type": "execute_result"
    }
   ],
   "source": [
    "10 < my_number"
   ]
  },
  {
   "cell_type": "code",
   "execution_count": 12,
   "id": "058a42c0",
   "metadata": {},
   "outputs": [
    {
     "data": {
      "text/plain": [
       "True"
      ]
     },
     "execution_count": 12,
     "metadata": {},
     "output_type": "execute_result"
    }
   ],
   "source": [
    "# greater than or equal to sign\n",
    "\n",
    "10 >= my_number"
   ]
  },
  {
   "cell_type": "code",
   "execution_count": 2,
   "id": "b4499d3a",
   "metadata": {},
   "outputs": [],
   "source": [
    "age = 56"
   ]
  },
  {
   "cell_type": "code",
   "execution_count": 3,
   "id": "a8d1604e",
   "metadata": {},
   "outputs": [
    {
     "name": "stdout",
     "output_type": "stream",
     "text": [
      "You can rent a car\n"
     ]
    }
   ],
   "source": [
    "# This \"if statement\" is a conditional statement that \n",
    "# checks if a condition is true; if the condition is \n",
    "# true, it runs the code directly below, then it exits \n",
    "# the conditional statement (it does not run the rest \n",
    "# of the code)\n",
    "\n",
    "if age >= 65:\n",
    "    print(\"You can retire, ideally\")\n",
    "elif age >= 25:\n",
    "    print(\"You can rent a car\")\n",
    "elif age >= 21:\n",
    "    print(\"you can have a beer\")\n",
    "else:\n",
    "    print(\"I'm sorry, you're too young\")"
   ]
  },
  {
   "cell_type": "markdown",
   "id": "eb9c2d52",
   "metadata": {},
   "source": [
    "## Group challenge"
   ]
  },
  {
   "cell_type": "code",
   "execution_count": 13,
   "id": "3abe2ada",
   "metadata": {},
   "outputs": [],
   "source": [
    "# remember loops? We are going to combine what we know about \n",
    "# loops with what we know about conditionals "
   ]
  },
  {
   "cell_type": "code",
   "execution_count": 1,
   "id": "f20c1d54",
   "metadata": {},
   "outputs": [
    {
     "data": {
      "text/plain": [
       "True"
      ]
     },
     "execution_count": 1,
     "metadata": {},
     "output_type": "execute_result"
    }
   ],
   "source": [
    "# first, take the method .isalpha, which checks if a string\n",
    "# contains only letters from the alphabet\n",
    "\n",
    "'hello'.isalpha()"
   ]
  },
  {
   "cell_type": "code",
   "execution_count": 2,
   "id": "6b80ff93",
   "metadata": {},
   "outputs": [
    {
     "data": {
      "text/plain": [
       "False"
      ]
     },
     "execution_count": 2,
     "metadata": {},
     "output_type": "execute_result"
    }
   ],
   "source": [
    "'1421432!!!!!'.isalpha()"
   ]
  },
  {
   "cell_type": "code",
   "execution_count": null,
   "id": "3f2deff6",
   "metadata": {},
   "outputs": [],
   "source": [
    "# now, write a loop that checks if each item in the list is \n",
    "# contains only alphabetic characters.\n",
    "# If they do indeed contain only alphabetic characters, then\n",
    "# print that item."
   ]
  },
  {
   "cell_type": "code",
   "execution_count": 5,
   "id": "08e99bf5",
   "metadata": {},
   "outputs": [],
   "source": [
    "quote = ['Happy', 'families', 'are', 'all', 'alike;', 'every', 'unhappy', \n",
    "         'family', 'is', 'unhappy', 'in', 'its', 'own', 'way']"
   ]
  },
  {
   "cell_type": "code",
   "execution_count": 9,
   "id": "a19d33e5",
   "metadata": {},
   "outputs": [
    {
     "name": "stdout",
     "output_type": "stream",
     "text": [
      "Happy\n",
      "families\n",
      "are\n",
      "all\n",
      "every\n",
      "unhappy\n",
      "family\n",
      "is\n",
      "unhappy\n",
      "in\n",
      "its\n",
      "own\n",
      "way\n"
     ]
    }
   ],
   "source": [
    "# solution:\n",
    "\n",
    "for i in quote:\n",
    "    if i.isalpha():\n",
    "        print(i)\n",
    "        \n",
    "# notice that we don't need an \"else\" here, because python\n",
    "# will just skip those that do not fulfill the condition,\n",
    "# which is just fine with us!"
   ]
  },
  {
   "cell_type": "code",
   "execution_count": null,
   "id": "438faa93",
   "metadata": {},
   "outputs": [],
   "source": []
  }
 ],
 "metadata": {
  "kernelspec": {
   "display_name": "Python 3",
   "language": "python",
   "name": "python3"
  },
  "language_info": {
   "codemirror_mode": {
    "name": "ipython",
    "version": 3
   },
   "file_extension": ".py",
   "mimetype": "text/x-python",
   "name": "python",
   "nbconvert_exporter": "python",
   "pygments_lexer": "ipython3",
   "version": "3.7.7"
  }
 },
 "nbformat": 4,
 "nbformat_minor": 5
}
