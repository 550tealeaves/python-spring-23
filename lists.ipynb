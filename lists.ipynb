{
 "cells": [
  {
   "cell_type": "markdown",
   "id": "649cfd31",
   "metadata": {},
   "source": [
    "# lists"
   ]
  },
  {
   "cell_type": "code",
   "execution_count": 14,
   "id": "fd80b212",
   "metadata": {},
   "outputs": [],
   "source": [
    "# let's make a list of books\n",
    "\n",
    "books = [\"daytripper\", \"twilight\", \"the stranger\", \"l'etranger\", \"1984\", \"ethan fromme\"]"
   ]
  },
  {
   "cell_type": "code",
   "execution_count": 15,
   "id": "5de1cf5c",
   "metadata": {},
   "outputs": [
    {
     "data": {
      "text/plain": [
       "\"l'etranger\""
      ]
     },
     "execution_count": 15,
     "metadata": {},
     "output_type": "execute_result"
    }
   ],
   "source": [
    "# list indexing: how you pick out items from a list\n",
    "# we always start counting with 0\n",
    "# the index 3 will then pick out the 4th item from the list\n",
    "\n",
    "books[3]"
   ]
  },
  {
   "cell_type": "code",
   "execution_count": 17,
   "id": "f7e4e2e4",
   "metadata": {},
   "outputs": [
    {
     "data": {
      "text/plain": [
       "'ethan fromme'"
      ]
     },
     "execution_count": 17,
     "metadata": {},
     "output_type": "execute_result"
    }
   ],
   "source": [
    "# negative numbers start at the end of the list\n",
    "\n",
    "books[-1]"
   ]
  },
  {
   "cell_type": "code",
   "execution_count": 18,
   "id": "1362c5f6",
   "metadata": {},
   "outputs": [
    {
     "data": {
      "text/plain": [
       "['daytripper', 'twilight', 'the stranger']"
      ]
     },
     "execution_count": 18,
     "metadata": {},
     "output_type": "execute_result"
    }
   ],
   "source": [
    "# list slicing: getting a section of a list\n",
    "\n",
    "books[0:3]"
   ]
  },
  {
   "cell_type": "code",
   "execution_count": 6,
   "id": "c01d4e6b",
   "metadata": {},
   "outputs": [
    {
     "data": {
      "text/plain": [
       "['twilight', 'the stranger', \"l'etranger\", '1984']"
      ]
     },
     "execution_count": 6,
     "metadata": {},
     "output_type": "execute_result"
    }
   ],
   "source": [
    "# the first value is inclusive, and the last is exclusive\n",
    "\n",
    "books[1:5]"
   ]
  },
  {
   "cell_type": "code",
   "execution_count": 8,
   "id": "fa153d67",
   "metadata": {},
   "outputs": [
    {
     "data": {
      "text/plain": [
       "['daytripper',\n",
       " 'twilight',\n",
       " 'the stranger',\n",
       " \"l'etranger\",\n",
       " '1984',\n",
       " 'ethan fromme']"
      ]
     },
     "execution_count": 8,
     "metadata": {},
     "output_type": "execute_result"
    }
   ],
   "source": [
    "# the colon in between the first and last values means everything when\n",
    "# on its own\n",
    "\n",
    "books[:]"
   ]
  },
  {
   "cell_type": "code",
   "execution_count": 12,
   "id": "437e7711",
   "metadata": {},
   "outputs": [
    {
     "data": {
      "text/plain": [
       "['daytripper', 'twilight', 'the stranger']"
      ]
     },
     "execution_count": 12,
     "metadata": {},
     "output_type": "execute_result"
    }
   ],
   "source": [
    "# you can use the colon to indicate everything before an item\n",
    "\n",
    "books[:3]"
   ]
  },
  {
   "cell_type": "code",
   "execution_count": 13,
   "id": "f0ade992",
   "metadata": {},
   "outputs": [
    {
     "data": {
      "text/plain": [
       "[\"l'etranger\", '1984', 'ethan fromme']"
      ]
     },
     "execution_count": 13,
     "metadata": {},
     "output_type": "execute_result"
    }
   ],
   "source": [
    "# or you can use the colon to indicate everything after an item\n",
    "\n",
    "books[3:]"
   ]
  },
  {
   "cell_type": "markdown",
   "id": "80bec39b",
   "metadata": {},
   "source": [
    "## list methods"
   ]
  },
  {
   "cell_type": "code",
   "execution_count": 19,
   "id": "4456a7fd",
   "metadata": {},
   "outputs": [
    {
     "name": "stdout",
     "output_type": "stream",
     "text": [
      "hello\n"
     ]
    }
   ],
   "source": [
    "# list methods\n",
    "\n",
    "# methods are functions that are tied to objects. \n",
    "\n",
    "# print() is a function, because it can stand alone\n",
    "print(\"hello\")"
   ]
  },
  {
   "cell_type": "code",
   "execution_count": 20,
   "id": "2983e22b",
   "metadata": {},
   "outputs": [
    {
     "data": {
      "text/plain": [
       "'HELLO'"
      ]
     },
     "execution_count": 20,
     "metadata": {},
     "output_type": "execute_result"
    }
   ],
   "source": [
    "# upper is a method because it's tied to the 'hello' object\n",
    "\n",
    "'hello'.upper()"
   ]
  },
  {
   "cell_type": "code",
   "execution_count": 22,
   "id": "d1eca646",
   "metadata": {},
   "outputs": [],
   "source": [
    "books.append('white noise')"
   ]
  },
  {
   "cell_type": "code",
   "execution_count": 23,
   "id": "c683048a",
   "metadata": {},
   "outputs": [
    {
     "data": {
      "text/plain": [
       "['daytripper',\n",
       " 'twilight',\n",
       " 'the stranger',\n",
       " \"l'etranger\",\n",
       " '1984',\n",
       " 'ethan fromme',\n",
       " 'white noise']"
      ]
     },
     "execution_count": 23,
     "metadata": {},
     "output_type": "execute_result"
    }
   ],
   "source": [
    "books"
   ]
  },
  {
   "cell_type": "code",
   "execution_count": 24,
   "id": "d3593720",
   "metadata": {},
   "outputs": [],
   "source": [
    "books.append('rebecca')"
   ]
  },
  {
   "cell_type": "code",
   "execution_count": 25,
   "id": "1686c7bd",
   "metadata": {},
   "outputs": [
    {
     "data": {
      "text/plain": [
       "['daytripper',\n",
       " 'twilight',\n",
       " 'the stranger',\n",
       " \"l'etranger\",\n",
       " '1984',\n",
       " 'ethan fromme',\n",
       " 'white noise',\n",
       " 'rebecca']"
      ]
     },
     "execution_count": 25,
     "metadata": {},
     "output_type": "execute_result"
    }
   ],
   "source": [
    "books"
   ]
  },
  {
   "cell_type": "code",
   "execution_count": 26,
   "id": "72c5a4cf",
   "metadata": {},
   "outputs": [
    {
     "data": {
      "text/plain": [
       "'rebecca'"
      ]
     },
     "execution_count": 26,
     "metadata": {},
     "output_type": "execute_result"
    }
   ],
   "source": [
    "books.pop()"
   ]
  },
  {
   "cell_type": "code",
   "execution_count": 27,
   "id": "ba867e42",
   "metadata": {},
   "outputs": [],
   "source": [
    "books.sort()"
   ]
  },
  {
   "cell_type": "code",
   "execution_count": 29,
   "id": "1ffccd0c",
   "metadata": {},
   "outputs": [
    {
     "data": {
      "text/plain": [
       "['1984',\n",
       " 'daytripper',\n",
       " 'ethan fromme',\n",
       " \"l'etranger\",\n",
       " 'the stranger',\n",
       " 'twilight',\n",
       " 'white noise']"
      ]
     },
     "execution_count": 29,
     "metadata": {},
     "output_type": "execute_result"
    }
   ],
   "source": [
    "books"
   ]
  },
  {
   "cell_type": "code",
   "execution_count": 30,
   "id": "110b10d3",
   "metadata": {},
   "outputs": [],
   "source": [
    "books.insert(1, 'the iliad')"
   ]
  },
  {
   "cell_type": "code",
   "execution_count": 31,
   "id": "1d7be7c2",
   "metadata": {},
   "outputs": [
    {
     "data": {
      "text/plain": [
       "['1984',\n",
       " 'the iliad',\n",
       " 'daytripper',\n",
       " 'ethan fromme',\n",
       " \"l'etranger\",\n",
       " 'the stranger',\n",
       " 'twilight',\n",
       " 'white noise']"
      ]
     },
     "execution_count": 31,
     "metadata": {},
     "output_type": "execute_result"
    }
   ],
   "source": [
    "books"
   ]
  },
  {
   "cell_type": "markdown",
   "id": "d5636ee1",
   "metadata": {},
   "source": [
    "## dipping into NLTK"
   ]
  },
  {
   "cell_type": "code",
   "execution_count": 33,
   "id": "c887d90a",
   "metadata": {},
   "outputs": [
    {
     "name": "stdout",
     "output_type": "stream",
     "text": [
      "*** Introductory Examples for the NLTK Book ***\n",
      "Loading text1, ..., text9 and sent1, ..., sent9\n",
      "Type the name of the text or sentence to view it.\n",
      "Type: 'texts()' or 'sents()' to list the materials.\n",
      "text1: Moby Dick by Herman Melville 1851\n",
      "text2: Sense and Sensibility by Jane Austen 1811\n",
      "text3: The Book of Genesis\n",
      "text4: Inaugural Address Corpus\n",
      "text5: Chat Corpus\n",
      "text6: Monty Python and the Holy Grail\n",
      "text7: Wall Street Journal\n",
      "text8: Personals Corpus\n",
      "text9: The Man Who Was Thursday by G . K . Chesterton 1908\n"
     ]
    }
   ],
   "source": [
    "import nltk\n",
    "from nltk.book import *"
   ]
  },
  {
   "cell_type": "code",
   "execution_count": 37,
   "id": "9a632919",
   "metadata": {},
   "outputs": [
    {
     "data": {
      "text/plain": [
       "['25',\n",
       " 'SEXY',\n",
       " 'MALE',\n",
       " ',',\n",
       " 'seeks',\n",
       " 'attrac',\n",
       " 'older',\n",
       " 'single',\n",
       " 'lady',\n",
       " ',',\n",
       " 'for',\n",
       " 'discreet',\n",
       " 'encounters',\n",
       " '.',\n",
       " '35YO',\n",
       " 'Security',\n",
       " 'Guard',\n",
       " ',',\n",
       " 'seeking',\n",
       " 'lady',\n",
       " 'in',\n",
       " 'uniform',\n",
       " 'for',\n",
       " 'fun',\n",
       " 'times',\n",
       " '.',\n",
       " '40',\n",
       " 'yo',\n",
       " 'SINGLE',\n",
       " 'DAD']"
      ]
     },
     "execution_count": 37,
     "metadata": {},
     "output_type": "execute_result"
    }
   ],
   "source": [
    "text8[:30]"
   ]
  },
  {
   "cell_type": "code",
   "execution_count": 40,
   "id": "392d28a1",
   "metadata": {},
   "outputs": [
    {
     "name": "stdout",
     "output_type": "stream",
     "text": [
      "high new company plant one place slide interest average share holding\n",
      "transaction house fall decision dinner decline drop state purchase\n"
     ]
    }
   ],
   "source": [
    "text7.similar('woman')"
   ]
  },
  {
   "cell_type": "code",
   "execution_count": null,
   "id": "aeef9d8d",
   "metadata": {},
   "outputs": [],
   "source": []
  }
 ],
 "metadata": {
  "kernelspec": {
   "display_name": "Python 3",
   "language": "python",
   "name": "python3"
  },
  "language_info": {
   "codemirror_mode": {
    "name": "ipython",
    "version": 3
   },
   "file_extension": ".py",
   "mimetype": "text/x-python",
   "name": "python",
   "nbconvert_exporter": "python",
   "pygments_lexer": "ipython3",
   "version": "3.7.7"
  }
 },
 "nbformat": 4,
 "nbformat_minor": 5
}
