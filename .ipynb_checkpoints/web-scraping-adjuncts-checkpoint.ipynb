{
 "cells": [
  {
   "cell_type": "code",
   "execution_count": null,
   "id": "7af6f439",
   "metadata": {},
   "outputs": [],
   "source": [
    "# first, load up the necessary libraries\n",
    "\n",
    "import requests\n",
    "from bs4 import BeautifulSoup\n",
    "import lxml"
   ]
  },
  {
   "cell_type": "code",
   "execution_count": null,
   "id": "2c7fb129",
   "metadata": {},
   "outputs": [],
   "source": [
    "# second, load up the webpage and create a 'soup' object\n",
    "\n",
    "webpage = requests.get(\"https://www.stern.nyu.edu/faculty/search_name_form\")\n",
    "source = webpage.content\n",
    "soup = BeautifulSoup(source, 'lxml')"
   ]
  },
  {
   "cell_type": "markdown",
   "id": "a0af62ad",
   "metadata": {},
   "source": [
    "## identifying html tags"
   ]
  },
  {
   "cell_type": "markdown",
   "id": "db0149ce",
   "metadata": {},
   "source": [
    "Before you can scrape a specific part of an webpage, you need to find out the html tag for the element you want to scrape. In this case, I want to get the names, affiliation, and email address for all of the Adjuncts listed on this [faculty page](https://www.stern.nyu.edu/faculty/search_name_form). \n",
    "\n",
    "In order to find out the element I need to scrape, I need to go into the page source. Here, I will use the \"inspector\" tool. On most browsers, you can fire up this tool by right-clicking on the element you want to scrape. \n",
    "\n",
    "Note: if you want to scrape an attribute, that's totally fine too. Check out the bs4 docs on [tags and attributes](\n",
    "https://www.crummy.com/software/BeautifulSoup/bs4/doc/#bs4.Tag) to get started. \n",
    "\n",
    "After right-clicking on your desired element that you want to scrape, in the popup menu, select \"inspect.\"\n",
    "\n",
    "![inspector tool](img/inspector.png)\n",
    "\n",
    "Then, a window should appear that covers about half of your webpage. Check in the largest panel in this window (the one displaying html code) and look for the *highlighted code* in this section. That code contains the name of the html tag that you want to scrape.\n",
    "\n",
    "![selection pane](img/selection.png)\n",
    "\n",
    "Remember, it's helpful to think of the HTML as a tree structure. You can use bs4 methods like `.parent` and `.children` to navigate this tree. Read more about the [navigating html tags](https://www.crummy.com/software/BeautifulSoup/bs4/doc/#navigating-using-tag-names) on the bs4 documentation.\n",
    "\n",
    "Sometimes, it helps to identify the html tag directly above the current one. This is known as the 'parent' tag. "
   ]
  },
  {
   "cell_type": "markdown",
   "id": "edd58d7d",
   "metadata": {},
   "source": [
    "## scraping the right tag"
   ]
  },
  {
   "cell_type": "markdown",
   "id": "981758a7",
   "metadata": {},
   "source": [
    "Let's first print all of the text in items within the `<i>` tag. This is what we saw on the 'inspector' as the tag that wraps each person's affiliation. \n",
    "\n",
    "Here, we are going to use the `find_all()` function from bs4. "
   ]
  },
  {
   "cell_type": "code",
   "execution_count": null,
   "id": "c1e5e48d",
   "metadata": {},
   "outputs": [],
   "source": [
    "# this is a for loop that goes through all of the <i> tags in our 'soup' object\n",
    "# then uses the 'text' attribute to grab just the text (taking out the html tag)\n",
    "# for that item\n",
    "\n",
    "for item in soup.find_all('i'):\n",
    "    print(item.text)"
   ]
  },
  {
   "cell_type": "markdown",
   "id": "299fbb96",
   "metadata": {},
   "source": [
    "The code definitely works here. We got a list of affiliations. But we want more than the affiliations, we also want to get the names and emails. So what do we do? \n",
    "\n",
    "We go to the 'parent' element, which is the `<tr>` tag."
   ]
  },
  {
   "cell_type": "code",
   "execution_count": null,
   "id": "0d3a5972",
   "metadata": {},
   "outputs": [],
   "source": [
    "# printing all of the items contained within the <tr> element\n",
    "\n",
    "for item in soup.find_all('tr'):\n",
    "    print(item.parent.text)"
   ]
  },
  {
   "cell_type": "markdown",
   "id": "3f350e5a",
   "metadata": {},
   "source": [
    "This is good! But rememeber we are only looking for faculty who are adjuncts. How do we do this? "
   ]
  },
  {
   "cell_type": "markdown",
   "id": "376c3ed8",
   "metadata": {},
   "source": [
    "The first thing is to realize the structure of our data. Each `tr` element is one item among a series of items. You can think of it like an item in a list, or a row in a dataset. Either way, the main idea is that we can loop through these items to pick out the desired objects. "
   ]
  },
  {
   "cell_type": "code",
   "execution_count": null,
   "id": "752d88fe",
   "metadata": {},
   "outputs": [],
   "source": [
    "# saves all the `<tr>` tags to the `tr_elements` variable\n",
    "tr_elements = soup.find_all('tr')\n",
    "\n",
    "# accesses just the second item, which is the very first row of data on our faculty column\n",
    "# FYI - the first item, at 0, is the column heading\n",
    "tr_elements[1]"
   ]
  },
  {
   "cell_type": "markdown",
   "id": "f3c7394c",
   "metadata": {},
   "source": [
    "Our goal is to weed out the items that do *not* contain \"Adjunct\" in the title. Our final list, therefore, should only be items that contain \"Adjunct\" somewhere in the text. \n",
    "\n",
    "To accomplish that, we can write a `for loop` that contains a contditional statement, i.e. an `if-statement`. Then, we save the results to a list called `adjuncts`."
   ]
  },
  {
   "cell_type": "code",
   "execution_count": null,
   "id": "ac4f2971",
   "metadata": {},
   "outputs": [],
   "source": [
    "adjuncts = []\n",
    "\n",
    "# for each \"row\" (or item) in all the TR elements\n",
    "for row in soup.find_all('tr'):\n",
    "    # check if it has Adjunct\n",
    "    if 'Adjunct' in row.text:\n",
    "        # if it does, then append it to our new list\n",
    "        adjuncts.append(row.text)"
   ]
  },
  {
   "cell_type": "code",
   "execution_count": null,
   "id": "2b2263e4",
   "metadata": {},
   "outputs": [],
   "source": [
    "# checking our output, just the first item (at position 0)\n",
    "\n",
    "adjuncts[0]"
   ]
  },
  {
   "cell_type": "code",
   "execution_count": null,
   "id": "f0c10fcf",
   "metadata": {},
   "outputs": [],
   "source": [
    "# now the first 10 items\n",
    "\n",
    "adjuncts[:10]"
   ]
  },
  {
   "cell_type": "markdown",
   "id": "06371eff",
   "metadata": {},
   "source": [
    "We got our list of adjunct names, affiliation, and emails! Next step is to clean up the formatting of this list and save the results to a handy CSV file. "
   ]
  },
  {
   "cell_type": "markdown",
   "id": "3ae201b7",
   "metadata": {},
   "source": [
    "## cleaning the results"
   ]
  },
  {
   "cell_type": "markdown",
   "id": "6122c259",
   "metadata": {},
   "source": [
    "There are some things we want to take out of our data. These include so called \"whitespace\" characters, like:\n",
    "- `\\n` characters\n",
    "- `\\n\\n` characters\n",
    "- `\\n\\n\\n` characters\n",
    "\n",
    "We also want to separate out each entity (a person's name, affiliation, email) into separate items, so that they can populate separate cells on a spreadsheet. In other words we want the following string: \n",
    "\n",
    "`'Abut, Daniel Adjunct Assistant Professor of Finance Finance Department daa249@stern.nyu.edu'`\n",
    "\n",
    "to become a part of a list of individual strings, like: \n",
    "\n",
    "`'Abut, Daniel ', 'Adjunct Assistant Professor of Finance, Finance Department', 'daa249@stern.nyu.edu'`"
   ]
  },
  {
   "cell_type": "code",
   "execution_count": null,
   "id": "e3081388",
   "metadata": {},
   "outputs": [],
   "source": [
    "# first, remove the newline characters, i.e. the \\n\n",
    "\n",
    "stripped = []\n",
    "\n",
    "for item in adjuncts:\n",
    "    stripped.append(item.strip('\\n'))\n",
    "    \n",
    "# check the results\n",
    "stripped[0]"
   ]
  },
  {
   "cell_type": "code",
   "execution_count": null,
   "id": "95d6377d",
   "metadata": {},
   "outputs": [],
   "source": [
    "# we can also do the same using 'list comprehension' - a way of shortening\n",
    "# the syntax to compress the loop into one line of code.\n",
    "\n",
    "stripped = [item.strip('\\n') for item in adjuncts]\n",
    "\n",
    "# check the first few lines\n",
    "stripped[:3]"
   ]
  },
  {
   "cell_type": "markdown",
   "id": "d99cf6fc",
   "metadata": {},
   "source": [
    "As you can see, we got some of the `\\n` but not all. We didn't get the double or triple, like `\\n\\n` or `\\n\\n\\n`\n",
    "\n",
    "But this is actually good. We will actually use the remaining `\\n` to split our rows into individual items. This will be necessary when we transfer it to a CSV. "
   ]
  },
  {
   "cell_type": "code",
   "execution_count": null,
   "id": "97820675",
   "metadata": {},
   "outputs": [],
   "source": [
    "divided = [item for row in stripped for item in row.split('\\n\\n')]"
   ]
  },
  {
   "cell_type": "code",
   "execution_count": null,
   "id": "67a57e7e",
   "metadata": {},
   "outputs": [],
   "source": [
    "divided[:10]"
   ]
  },
  {
   "cell_type": "code",
   "execution_count": null,
   "id": "111e191e",
   "metadata": {},
   "outputs": [],
   "source": [
    "divided[0]"
   ]
  },
  {
   "cell_type": "code",
   "execution_count": null,
   "id": "9489df9b",
   "metadata": {},
   "outputs": [],
   "source": [
    "# Now we can remove some of the remaining \\n characters\n",
    "\n",
    "stripped_twice = []\n",
    "\n",
    "for item in divided:\n",
    "    stripped_twice.append(item.strip('\\n'))"
   ]
  },
  {
   "cell_type": "code",
   "execution_count": null,
   "id": "1a722d10",
   "metadata": {},
   "outputs": [],
   "source": [
    "stripped_twice"
   ]
  },
  {
   "cell_type": "markdown",
   "id": "2ffa1916",
   "metadata": {},
   "source": [
    "Excellent work! Now we have a nice clean list of names, affiliations, and emails. The next step will be to break up this list into a tabular format, so we can have one person per row. "
   ]
  },
  {
   "cell_type": "markdown",
   "id": "033607af",
   "metadata": {},
   "source": [
    "## writing CSV to format and save our data"
   ]
  },
  {
   "cell_type": "code",
   "execution_count": null,
   "id": "e251dac8",
   "metadata": {},
   "outputs": [],
   "source": [
    "import csv\n",
    "\n",
    "with open('data.csv', 'w') as f:\n",
    "    writer = csv.writer(f)\n",
    "    writer.writerow(stripped_twice)\n",
    "    \n",
    "\n",
    "f.close()"
   ]
  },
  {
   "cell_type": "code",
   "execution_count": null,
   "id": "b0ba8d46",
   "metadata": {},
   "outputs": [],
   "source": [
    "import csv\n",
    "\n",
    "# open input and output files\n",
    "with open('data.csv', 'r') as input_file, open('adjuncts.csv', 'w', newline='') as output_file:\n",
    "    # create csv reader and writer objects\n",
    "    reader = csv.reader(input_file)\n",
    "    writer = csv.writer(output_file)\n",
    "    \n",
    "    # iterate over rows in input file\n",
    "    for row in reader:\n",
    "        # initialize list for updated row\n",
    "        new_row = []\n",
    "        # iterate over cells in row\n",
    "        for cell in row:\n",
    "            # check if cell contains \"edu\"\n",
    "            if \"edu\" in cell:\n",
    "                # add cell to new row and write to output file\n",
    "                new_row.append(cell)\n",
    "                writer.writerow(new_row)\n",
    "                # start new row\n",
    "                new_row = []\n",
    "            else:\n",
    "                # add cell to current row\n",
    "                new_row.append(cell)\n",
    "        # write last row to output file\n",
    "        writer.writerow(new_row)"
   ]
  },
  {
   "cell_type": "code",
   "execution_count": null,
   "id": "8831a1c7",
   "metadata": {},
   "outputs": [],
   "source": []
  }
 ],
 "metadata": {
  "kernelspec": {
   "display_name": "Python 3",
   "language": "python",
   "name": "python3"
  },
  "language_info": {
   "codemirror_mode": {
    "name": "ipython",
    "version": 3
   },
   "file_extension": ".py",
   "mimetype": "text/x-python",
   "name": "python",
   "nbconvert_exporter": "python",
   "pygments_lexer": "ipython3",
   "version": "3.7.7"
  }
 },
 "nbformat": 4,
 "nbformat_minor": 5
}
