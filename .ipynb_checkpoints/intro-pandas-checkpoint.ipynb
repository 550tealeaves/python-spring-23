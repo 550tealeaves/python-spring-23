{
 "cells": [
  {
   "cell_type": "code",
   "execution_count": 1,
   "id": "70ebb20b",
   "metadata": {},
   "outputs": [],
   "source": [
    "# import the pandas library for data analysis & visualization\n",
    "\n",
    "import pandas as pd  # pd is the convention for calling the pandas slibrary \n",
    "import matplotlib  # for visualzation"
   ]
  },
  {
   "cell_type": "code",
   "execution_count": 2,
   "id": "b84f365b",
   "metadata": {},
   "outputs": [],
   "source": [
    "# create a list of names\n",
    "\n",
    "roster = ['Filipa', 'Matthew', 'Patricia', 'Nuraly', 'Maria']"
   ]
  },
  {
   "cell_type": "code",
   "execution_count": 3,
   "id": "84b212d0",
   "metadata": {},
   "outputs": [
    {
     "data": {
      "text/plain": [
       "list"
      ]
     },
     "execution_count": 3,
     "metadata": {},
     "output_type": "execute_result"
    }
   ],
   "source": [
    "# this object is a list type\n",
    "\n",
    "type(roster)"
   ]
  },
  {
   "cell_type": "markdown",
   "id": "cce5d321",
   "metadata": {},
   "source": [
    "## Dictionaries (dict) data type"
   ]
  },
  {
   "cell_type": "code",
   "execution_count": 6,
   "id": "4709242c",
   "metadata": {},
   "outputs": [],
   "source": [
    "# here we are creating a new object, a \"dictionary\" or \"dict\" type \n",
    "# object. This is a nested object which contains key & value pairs\n",
    "# For example, the \"program\" key contains the following values:\n",
    "# ['English', 'DataViz', 'MADH'...] \n",
    "\n",
    "# a dict allows us to create a data structure that is ideal for \n",
    "# 2-dimensional formats, like spreadsheets, that have rows and \n",
    "# columns. \n",
    "\n",
    "roster_dict = {\n",
    "    'name': roster,\n",
    "    'program': ['English', 'DataViz', 'MADH', 'MADH', 'MADH'],\n",
    "    'sign': ['Gemini', 'Virgo', 'Pisces', 'Aquarius', 'Aries'],\n",
    "    'year': [7, 1, 3, 1, 1]\n",
    "}"
   ]
  },
  {
   "cell_type": "code",
   "execution_count": 7,
   "id": "91c849e1",
   "metadata": {},
   "outputs": [
    {
     "data": {
      "text/plain": [
       "dict"
      ]
     },
     "execution_count": 7,
     "metadata": {},
     "output_type": "execute_result"
    }
   ],
   "source": [
    "type(roster_dict)"
   ]
  },
  {
   "cell_type": "markdown",
   "id": "ef467feb",
   "metadata": {},
   "source": [
    "## DataFrames in Pandas"
   ]
  },
  {
   "cell_type": "code",
   "execution_count": 8,
   "id": "1739f130",
   "metadata": {},
   "outputs": [],
   "source": [
    "# from Pandas, use the DataFrame class to transform our dict\n",
    "# into a DataFrame object called \"df\"\n",
    "\n",
    "# a DataFrame has the exact same structure as a dict. The new\n",
    "# object just makes us able to use pandas-specific methods for \n",
    "# cleaning and analysis\n",
    "\n",
    "df = pd.DataFrame(roster_dict)"
   ]
  },
  {
   "cell_type": "code",
   "execution_count": 9,
   "id": "47e77bdd",
   "metadata": {},
   "outputs": [
    {
     "data": {
      "text/html": [
       "<div>\n",
       "<style scoped>\n",
       "    .dataframe tbody tr th:only-of-type {\n",
       "        vertical-align: middle;\n",
       "    }\n",
       "\n",
       "    .dataframe tbody tr th {\n",
       "        vertical-align: top;\n",
       "    }\n",
       "\n",
       "    .dataframe thead th {\n",
       "        text-align: right;\n",
       "    }\n",
       "</style>\n",
       "<table border=\"1\" class=\"dataframe\">\n",
       "  <thead>\n",
       "    <tr style=\"text-align: right;\">\n",
       "      <th></th>\n",
       "      <th>name</th>\n",
       "      <th>program</th>\n",
       "      <th>sign</th>\n",
       "      <th>year</th>\n",
       "    </tr>\n",
       "  </thead>\n",
       "  <tbody>\n",
       "    <tr>\n",
       "      <th>0</th>\n",
       "      <td>Filipa</td>\n",
       "      <td>English</td>\n",
       "      <td>Gemini</td>\n",
       "      <td>7</td>\n",
       "    </tr>\n",
       "    <tr>\n",
       "      <th>1</th>\n",
       "      <td>Matthew</td>\n",
       "      <td>DataViz</td>\n",
       "      <td>Virgo</td>\n",
       "      <td>1</td>\n",
       "    </tr>\n",
       "    <tr>\n",
       "      <th>2</th>\n",
       "      <td>Patricia</td>\n",
       "      <td>MADH</td>\n",
       "      <td>Pisces</td>\n",
       "      <td>3</td>\n",
       "    </tr>\n",
       "    <tr>\n",
       "      <th>3</th>\n",
       "      <td>Nuraly</td>\n",
       "      <td>MADH</td>\n",
       "      <td>Aquarius</td>\n",
       "      <td>1</td>\n",
       "    </tr>\n",
       "    <tr>\n",
       "      <th>4</th>\n",
       "      <td>Maria</td>\n",
       "      <td>MADH</td>\n",
       "      <td>Aries</td>\n",
       "      <td>1</td>\n",
       "    </tr>\n",
       "  </tbody>\n",
       "</table>\n",
       "</div>"
      ],
      "text/plain": [
       "       name  program      sign  year\n",
       "0    Filipa  English    Gemini     7\n",
       "1   Matthew  DataViz     Virgo     1\n",
       "2  Patricia     MADH    Pisces     3\n",
       "3    Nuraly     MADH  Aquarius     1\n",
       "4     Maria     MADH     Aries     1"
      ]
     },
     "execution_count": 9,
     "metadata": {},
     "output_type": "execute_result"
    }
   ],
   "source": [
    "# check out our new df. how pretty!\n",
    "\n",
    "df"
   ]
  },
  {
   "cell_type": "code",
   "execution_count": 10,
   "id": "f251c569",
   "metadata": {},
   "outputs": [
    {
     "name": "stdout",
     "output_type": "stream",
     "text": [
      "<class 'pandas.core.frame.DataFrame'>\n",
      "RangeIndex: 5 entries, 0 to 4\n",
      "Data columns (total 4 columns):\n",
      " #   Column   Non-Null Count  Dtype \n",
      "---  ------   --------------  ----- \n",
      " 0   name     5 non-null      object\n",
      " 1   program  5 non-null      object\n",
      " 2   sign     5 non-null      object\n",
      " 3   year     5 non-null      int64 \n",
      "dtypes: int64(1), object(3)\n",
      "memory usage: 288.0+ bytes\n"
     ]
    }
   ],
   "source": [
    "# most common method is .info(), which gives us a basic \n",
    "# overview of the dataset\n",
    "\n",
    "df.info()"
   ]
  },
  {
   "cell_type": "code",
   "execution_count": 11,
   "id": "a564d080",
   "metadata": {},
   "outputs": [],
   "source": [
    "# another popular method is \"to_csv()\" to create CSVs from our \n",
    "# df. After running this, check your current folder for the new\n",
    "# file. \n",
    "\n",
    "df.to_csv('roster.csv')"
   ]
  },
  {
   "cell_type": "code",
   "execution_count": 13,
   "id": "13e526cd",
   "metadata": {},
   "outputs": [
    {
     "data": {
      "text/plain": [
       "0      Filipa\n",
       "1     Matthew\n",
       "2    Patricia\n",
       "3      Nuraly\n",
       "4       Maria\n",
       "Name: name, dtype: object"
      ]
     },
     "execution_count": 13,
     "metadata": {},
     "output_type": "execute_result"
    }
   ],
   "source": [
    "# access columns using a familiar synatx -- square brackets.\n",
    "# it's similar to how we access items in a list by indexing\n",
    "\n",
    "df['name']"
   ]
  },
  {
   "cell_type": "code",
   "execution_count": 14,
   "id": "71dccdb4",
   "metadata": {},
   "outputs": [
    {
     "data": {
      "text/plain": [
       "0      Filipa\n",
       "1     Matthew\n",
       "2    Patricia\n",
       "3      Nuraly\n",
       "4       Maria\n",
       "Name: name, dtype: object"
      ]
     },
     "execution_count": 14,
     "metadata": {},
     "output_type": "execute_result"
    }
   ],
   "source": [
    "# you can also use dot syntax, accessing \"name\" as a property\n",
    "# of the df object\n",
    "\n",
    "df.name"
   ]
  },
  {
   "cell_type": "code",
   "execution_count": 15,
   "id": "2a93d28d",
   "metadata": {},
   "outputs": [
    {
     "data": {
      "text/plain": [
       "2.6"
      ]
     },
     "execution_count": 15,
     "metadata": {},
     "output_type": "execute_result"
    }
   ],
   "source": [
    "# pandas comes with statistical methods like \"mean()\"\n",
    "\n",
    "df['year'].mean()"
   ]
  },
  {
   "cell_type": "code",
   "execution_count": 16,
   "id": "37c10cd4",
   "metadata": {},
   "outputs": [
    {
     "data": {
      "text/plain": [
       "count    5.000000\n",
       "mean     2.600000\n",
       "std      2.607681\n",
       "min      1.000000\n",
       "25%      1.000000\n",
       "50%      1.000000\n",
       "75%      3.000000\n",
       "max      7.000000\n",
       "Name: year, dtype: float64"
      ]
     },
     "execution_count": 16,
     "metadata": {},
     "output_type": "execute_result"
    }
   ],
   "source": [
    "# describe() is a useful method to get an overview of statistics. \n",
    "# only works on quantitative data (such as the ['year'] column)\n",
    "\n",
    "df['year'].describe()"
   ]
  },
  {
   "cell_type": "code",
   "execution_count": 17,
   "id": "c6ddc2eb",
   "metadata": {},
   "outputs": [
    {
     "data": {
      "text/plain": [
       "MADH       3\n",
       "English    1\n",
       "DataViz    1\n",
       "Name: program, dtype: int64"
      ]
     },
     "execution_count": 17,
     "metadata": {},
     "output_type": "execute_result"
    }
   ],
   "source": [
    "# value_counts() is useful for counting the number of times a \n",
    "# value appears in a specific column.\n",
    "\n",
    "df['program'].value_counts()"
   ]
  },
  {
   "cell_type": "code",
   "execution_count": 18,
   "id": "ab293563",
   "metadata": {},
   "outputs": [
    {
     "data": {
      "text/plain": [
       "<matplotlib.axes._subplots.AxesSubplot at 0x7f920d7bba50>"
      ]
     },
     "execution_count": 18,
     "metadata": {},
     "output_type": "execute_result"
    },
    {
     "data": {
      "image/png": "[encoded data removed]",
      "text/plain": [
       "<Figure size 432x288 with 1 Axes>"
      ]
     },
     "metadata": {},
     "output_type": "display_data"
    }
   ],
   "source": [
    "# plot(kind='pie') from matplotlib library\n",
    "# this gets us a pie plot of the values for the ['program'] column.\n",
    "\n",
    "df['program'].value_counts().plot(kind='pie')"
   ]
  },
  {
   "cell_type": "code",
   "execution_count": null,
   "id": "86fb5590",
   "metadata": {},
   "outputs": [],
   "source": []
  }
 ],
 "metadata": {
  "kernelspec": {
   "display_name": "Python 3",
   "language": "python",
   "name": "python3"
  },
  "language_info": {
   "codemirror_mode": {
    "name": "ipython",
    "version": 3
   },
   "file_extension": ".py",
   "mimetype": "text/x-python",
   "name": "python",
   "nbconvert_exporter": "python",
   "pygments_lexer": "ipython3",
   "version": "3.7.7"
  }
 },
 "nbformat": 4,
 "nbformat_minor": 5
}
